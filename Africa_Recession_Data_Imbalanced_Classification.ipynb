{
  "nbformat": 4,
  "nbformat_minor": 0,
  "metadata": {
    "colab": {
      "name": "Africa Recession Data Imbalanced Classification.ipynb",
      "provenance": [],
      "collapsed_sections": [],
      "authorship_tag": "ABX9TyN9FNGgSucGLEQyPenEsrtf",
      "include_colab_link": true
    },
    "kernelspec": {
      "name": "python3",
      "display_name": "Python 3"
    }
  },
  "cells": [
    {
      "cell_type": "markdown",
      "metadata": {
        "id": "view-in-github",
        "colab_type": "text"
      },
      "source": [
        "<a href=\"https://colab.research.google.com/github/mmalinda/Binary-Classification-on-Imbalanced-Data/blob/master/Africa_Recession_Data_Imbalanced_Classification.ipynb\" target=\"_parent\"><img src=\"https://colab.research.google.com/assets/colab-badge.svg\" alt=\"Open In Colab\"/></a>"
      ]
    },
    {
      "cell_type": "markdown",
      "metadata": {
        "id": "OSO8GR4liOk4",
        "colab_type": "text"
      },
      "source": [
        "# Testing recommendations for binary classification with an imbalanced target variable"
      ]
    },
    {
      "cell_type": "markdown",
      "metadata": {
        "id": "1HeBy0_GiVtY",
        "colab_type": "text"
      },
      "source": [
        "Training classification models with imbalance in the target variable can be difficult since the model will often favour the majority class (predicting only the majority class produces a model with very high accuracy). Underrepresentation of the minority class is common when predicting rare events like this recessions, rare diseases, and natural disasters and it makes prediction difficult since there is often a very high cost to false positives/negatives.\n",
        "\n",
        "The [African country recession dataset](https://www.kaggle.com/chirin/african-country-recession-dataset-2000-to-2017?select=africa_recession.csv) is a record of 27 African countries from 2000 to 2017 with data on 49 economic indicators and a target variable \"growthbucket\" that represents whether the country experienced a recession or not. The target variable is highly imbalanced, with over 90% of records in the majority \"No_Recession\" class. This makes it an ideal dataset for comparing recommendations for binary classification on extremely imbalanced data.\n",
        "\n",
        "There are several recommendations for dealing with imbalance in the target variable, so a few were selected for this exercise, namely:\n",
        "\n",
        "\n",
        "1.   Using a decision tree based algorithm\n",
        "2.   Applying ensemble methods\n",
        "3.   Undersampling of the majority class\n",
        "4.   Oversampling of the minority class (resampling and SMOTE)\n",
        "\n",
        "\n"
      ]
    },
    {
      "cell_type": "markdown",
      "metadata": {
        "id": "d5QSNNT7mhG8",
        "colab_type": "text"
      },
      "source": [
        "## Data Exploration"
      ]
    },
    {
      "cell_type": "code",
      "metadata": {
        "id": "27gEJaU36vAJ",
        "colab_type": "code",
        "colab": {}
      },
      "source": [
        "# Importing libraries\n",
        "import pandas as pd\n",
        "import numpy as np\n",
        "\n",
        "import seaborn as sns\n",
        "import matplotlib.pyplot as plt\n",
        "%matplotlib inline"
      ],
      "execution_count": 4,
      "outputs": []
    },
    {
      "cell_type": "code",
      "metadata": {
        "id": "1ZsEWPDL7XnB",
        "colab_type": "code",
        "colab": {
          "base_uri": "https://localhost:8080/",
          "height": 214
        },
        "outputId": "9a7f5f32-bcbb-4891-e433-84fa024dfd7d"
      },
      "source": [
        "# Loading data\n",
        "data = pd.read_csv(\"africa_recession.csv\")\n",
        "data.head()"
      ],
      "execution_count": 5,
      "outputs": [
        {
          "output_type": "execute_result",
          "data": {
            "text/html": [
              "<div>\n",
              "<style scoped>\n",
              "    .dataframe tbody tr th:only-of-type {\n",
              "        vertical-align: middle;\n",
              "    }\n",
              "\n",
              "    .dataframe tbody tr th {\n",
              "        vertical-align: top;\n",
              "    }\n",
              "\n",
              "    .dataframe thead th {\n",
              "        text-align: right;\n",
              "    }\n",
              "</style>\n",
              "<table border=\"1\" class=\"dataframe\">\n",
              "  <thead>\n",
              "    <tr style=\"text-align: right;\">\n",
              "      <th></th>\n",
              "      <th>pop</th>\n",
              "      <th>emp</th>\n",
              "      <th>emp_to_pop_ratio</th>\n",
              "      <th>hc</th>\n",
              "      <th>ccon</th>\n",
              "      <th>cda</th>\n",
              "      <th>cn</th>\n",
              "      <th>ck</th>\n",
              "      <th>ctfp</th>\n",
              "      <th>cwtfp</th>\n",
              "      <th>rconna</th>\n",
              "      <th>rdana</th>\n",
              "      <th>rnna</th>\n",
              "      <th>rkna</th>\n",
              "      <th>rtfpna</th>\n",
              "      <th>rwtfpna</th>\n",
              "      <th>labsh</th>\n",
              "      <th>irr</th>\n",
              "      <th>delta</th>\n",
              "      <th>xr</th>\n",
              "      <th>pl_con</th>\n",
              "      <th>pl_da</th>\n",
              "      <th>pl_gdpo</th>\n",
              "      <th>csh_c</th>\n",
              "      <th>csh_i</th>\n",
              "      <th>csh_g</th>\n",
              "      <th>csh_x</th>\n",
              "      <th>csh_m</th>\n",
              "      <th>csh_r</th>\n",
              "      <th>pl_c</th>\n",
              "      <th>pl_i</th>\n",
              "      <th>pl_g</th>\n",
              "      <th>pl_x</th>\n",
              "      <th>pl_m</th>\n",
              "      <th>pl_n</th>\n",
              "      <th>total</th>\n",
              "      <th>excl_energy</th>\n",
              "      <th>energy</th>\n",
              "      <th>metals_minerals</th>\n",
              "      <th>forestry</th>\n",
              "      <th>agriculture</th>\n",
              "      <th>fish</th>\n",
              "      <th>total_change</th>\n",
              "      <th>excl_energy_change</th>\n",
              "      <th>energy_change</th>\n",
              "      <th>metals_minerals_change</th>\n",
              "      <th>forestry_change</th>\n",
              "      <th>agriculture_change</th>\n",
              "      <th>fish_change</th>\n",
              "      <th>growthbucket</th>\n",
              "    </tr>\n",
              "  </thead>\n",
              "  <tbody>\n",
              "    <tr>\n",
              "      <th>0</th>\n",
              "      <td>28.849621</td>\n",
              "      <td>6.914298</td>\n",
              "      <td>0.239667</td>\n",
              "      <td>1.547767</td>\n",
              "      <td>99010.171880</td>\n",
              "      <td>131991.375000</td>\n",
              "      <td>426543.343800</td>\n",
              "      <td>0.009374</td>\n",
              "      <td>0.648979</td>\n",
              "      <td>0.626111</td>\n",
              "      <td>95642.992190</td>\n",
              "      <td>131823.703100</td>\n",
              "      <td>7.039534e+05</td>\n",
              "      <td>0.512764</td>\n",
              "      <td>1.068518</td>\n",
              "      <td>1.008857</td>\n",
              "      <td>0.483403</td>\n",
              "      <td>0.119199</td>\n",
              "      <td>0.043679</td>\n",
              "      <td>10.625636</td>\n",
              "      <td>0.307452</td>\n",
              "      <td>0.309123</td>\n",
              "      <td>0.295914</td>\n",
              "      <td>0.618509</td>\n",
              "      <td>0.250884</td>\n",
              "      <td>0.134649</td>\n",
              "      <td>0.121411</td>\n",
              "      <td>-0.182028</td>\n",
              "      <td>0.056574</td>\n",
              "      <td>0.289768</td>\n",
              "      <td>0.314139</td>\n",
              "      <td>0.388684</td>\n",
              "      <td>0.465633</td>\n",
              "      <td>0.481975</td>\n",
              "      <td>0.278865</td>\n",
              "      <td>327.86</td>\n",
              "      <td>223.05</td>\n",
              "      <td>769.06</td>\n",
              "      <td>268.89</td>\n",
              "      <td>289.58</td>\n",
              "      <td>149.37</td>\n",
              "      <td>876.46</td>\n",
              "      <td>0.264843</td>\n",
              "      <td>0.012115</td>\n",
              "      <td>0.717188</td>\n",
              "      <td>0.099935</td>\n",
              "      <td>-0.061177</td>\n",
              "      <td>0.073986</td>\n",
              "      <td>0.007576</td>\n",
              "      <td>0</td>\n",
              "    </tr>\n",
              "    <tr>\n",
              "      <th>1</th>\n",
              "      <td>45.728313</td>\n",
              "      <td>13.623806</td>\n",
              "      <td>0.297929</td>\n",
              "      <td>2.086037</td>\n",
              "      <td>316862.656300</td>\n",
              "      <td>374842.343800</td>\n",
              "      <td>804602.250000</td>\n",
              "      <td>0.019658</td>\n",
              "      <td>0.719390</td>\n",
              "      <td>0.657543</td>\n",
              "      <td>308969.156300</td>\n",
              "      <td>379569.906300</td>\n",
              "      <td>1.669636e+06</td>\n",
              "      <td>0.647240</td>\n",
              "      <td>0.973863</td>\n",
              "      <td>0.865942</td>\n",
              "      <td>0.561062</td>\n",
              "      <td>0.108611</td>\n",
              "      <td>0.042740</td>\n",
              "      <td>6.939828</td>\n",
              "      <td>0.348586</td>\n",
              "      <td>0.354220</td>\n",
              "      <td>0.351310</td>\n",
              "      <td>0.670727</td>\n",
              "      <td>0.147136</td>\n",
              "      <td>0.133380</td>\n",
              "      <td>0.135068</td>\n",
              "      <td>-0.130606</td>\n",
              "      <td>0.044295</td>\n",
              "      <td>0.323617</td>\n",
              "      <td>0.385008</td>\n",
              "      <td>0.474147</td>\n",
              "      <td>0.494095</td>\n",
              "      <td>0.520165</td>\n",
              "      <td>0.444091</td>\n",
              "      <td>327.86</td>\n",
              "      <td>223.05</td>\n",
              "      <td>769.06</td>\n",
              "      <td>268.89</td>\n",
              "      <td>289.58</td>\n",
              "      <td>149.37</td>\n",
              "      <td>876.46</td>\n",
              "      <td>0.264843</td>\n",
              "      <td>0.012115</td>\n",
              "      <td>0.717188</td>\n",
              "      <td>0.099935</td>\n",
              "      <td>-0.061177</td>\n",
              "      <td>0.073986</td>\n",
              "      <td>0.007576</td>\n",
              "      <td>0</td>\n",
              "    </tr>\n",
              "    <tr>\n",
              "      <th>2</th>\n",
              "      <td>33.262043</td>\n",
              "      <td>13.323813</td>\n",
              "      <td>0.400571</td>\n",
              "      <td>1.498783</td>\n",
              "      <td>29762.876950</td>\n",
              "      <td>36584.992190</td>\n",
              "      <td>67072.593750</td>\n",
              "      <td>0.001670</td>\n",
              "      <td>0.308652</td>\n",
              "      <td>0.292607</td>\n",
              "      <td>36392.964840</td>\n",
              "      <td>43032.312500</td>\n",
              "      <td>1.616443e+05</td>\n",
              "      <td>0.399972</td>\n",
              "      <td>0.985717</td>\n",
              "      <td>0.816634</td>\n",
              "      <td>0.506038</td>\n",
              "      <td>0.188336</td>\n",
              "      <td>0.045847</td>\n",
              "      <td>800.408508</td>\n",
              "      <td>0.358321</td>\n",
              "      <td>0.357803</td>\n",
              "      <td>0.351029</td>\n",
              "      <td>0.672994</td>\n",
              "      <td>0.183977</td>\n",
              "      <td>0.129643</td>\n",
              "      <td>0.035281</td>\n",
              "      <td>-0.087737</td>\n",
              "      <td>0.065842</td>\n",
              "      <td>0.368704</td>\n",
              "      <td>0.355546</td>\n",
              "      <td>0.304422</td>\n",
              "      <td>0.501278</td>\n",
              "      <td>0.487623</td>\n",
              "      <td>0.350502</td>\n",
              "      <td>327.86</td>\n",
              "      <td>223.05</td>\n",
              "      <td>769.06</td>\n",
              "      <td>268.89</td>\n",
              "      <td>289.58</td>\n",
              "      <td>149.37</td>\n",
              "      <td>876.46</td>\n",
              "      <td>0.264843</td>\n",
              "      <td>0.012115</td>\n",
              "      <td>0.717188</td>\n",
              "      <td>0.099935</td>\n",
              "      <td>-0.061177</td>\n",
              "      <td>0.073986</td>\n",
              "      <td>0.007576</td>\n",
              "      <td>0</td>\n",
              "    </tr>\n",
              "    <tr>\n",
              "      <th>3</th>\n",
              "      <td>8.025703</td>\n",
              "      <td>3.869000</td>\n",
              "      <td>0.482076</td>\n",
              "      <td>1.356151</td>\n",
              "      <td>6488.692871</td>\n",
              "      <td>7006.969727</td>\n",
              "      <td>5790.396973</td>\n",
              "      <td>0.000184</td>\n",
              "      <td>0.205865</td>\n",
              "      <td>0.234643</td>\n",
              "      <td>7096.825195</td>\n",
              "      <td>7673.087891</td>\n",
              "      <td>1.014219e+04</td>\n",
              "      <td>0.450355</td>\n",
              "      <td>0.703341</td>\n",
              "      <td>0.730731</td>\n",
              "      <td>0.741010</td>\n",
              "      <td>0.080584</td>\n",
              "      <td>0.048116</td>\n",
              "      <td>389.696228</td>\n",
              "      <td>0.281181</td>\n",
              "      <td>0.293343</td>\n",
              "      <td>0.293662</td>\n",
              "      <td>0.869283</td>\n",
              "      <td>0.087738</td>\n",
              "      <td>0.229176</td>\n",
              "      <td>0.024138</td>\n",
              "      <td>-0.017928</td>\n",
              "      <td>-0.192408</td>\n",
              "      <td>0.292345</td>\n",
              "      <td>0.445609</td>\n",
              "      <td>0.238837</td>\n",
              "      <td>0.470837</td>\n",
              "      <td>0.511137</td>\n",
              "      <td>0.402848</td>\n",
              "      <td>327.86</td>\n",
              "      <td>223.05</td>\n",
              "      <td>769.06</td>\n",
              "      <td>268.89</td>\n",
              "      <td>289.58</td>\n",
              "      <td>149.37</td>\n",
              "      <td>876.46</td>\n",
              "      <td>0.264843</td>\n",
              "      <td>0.012115</td>\n",
              "      <td>0.717188</td>\n",
              "      <td>0.099935</td>\n",
              "      <td>-0.061177</td>\n",
              "      <td>0.073986</td>\n",
              "      <td>0.007576</td>\n",
              "      <td>0</td>\n",
              "    </tr>\n",
              "    <tr>\n",
              "      <th>4</th>\n",
              "      <td>1.061468</td>\n",
              "      <td>0.243000</td>\n",
              "      <td>0.228928</td>\n",
              "      <td>1.676330</td>\n",
              "      <td>7620.187500</td>\n",
              "      <td>8419.264648</td>\n",
              "      <td>16907.236330</td>\n",
              "      <td>0.000431</td>\n",
              "      <td>0.959765</td>\n",
              "      <td>0.993985</td>\n",
              "      <td>5540.332520</td>\n",
              "      <td>7002.934570</td>\n",
              "      <td>4.100362e+04</td>\n",
              "      <td>1.068165</td>\n",
              "      <td>0.737721</td>\n",
              "      <td>0.752696</td>\n",
              "      <td>0.612079</td>\n",
              "      <td>0.033991</td>\n",
              "      <td>0.057299</td>\n",
              "      <td>6.939828</td>\n",
              "      <td>0.206353</td>\n",
              "      <td>0.235375</td>\n",
              "      <td>0.222508</td>\n",
              "      <td>0.845482</td>\n",
              "      <td>0.102297</td>\n",
              "      <td>0.130042</td>\n",
              "      <td>0.234137</td>\n",
              "      <td>-0.291400</td>\n",
              "      <td>-0.020558</td>\n",
              "      <td>0.200053</td>\n",
              "      <td>0.512144</td>\n",
              "      <td>0.247313</td>\n",
              "      <td>0.487032</td>\n",
              "      <td>0.482645</td>\n",
              "      <td>0.398468</td>\n",
              "      <td>327.86</td>\n",
              "      <td>223.05</td>\n",
              "      <td>769.06</td>\n",
              "      <td>268.89</td>\n",
              "      <td>289.58</td>\n",
              "      <td>149.37</td>\n",
              "      <td>876.46</td>\n",
              "      <td>0.264843</td>\n",
              "      <td>0.012115</td>\n",
              "      <td>0.717188</td>\n",
              "      <td>0.099935</td>\n",
              "      <td>-0.061177</td>\n",
              "      <td>0.073986</td>\n",
              "      <td>0.007576</td>\n",
              "      <td>0</td>\n",
              "    </tr>\n",
              "  </tbody>\n",
              "</table>\n",
              "</div>"
            ],
            "text/plain": [
              "         pop        emp  ...  fish_change  growthbucket\n",
              "0  28.849621   6.914298  ...     0.007576             0\n",
              "1  45.728313  13.623806  ...     0.007576             0\n",
              "2  33.262043  13.323813  ...     0.007576             0\n",
              "3   8.025703   3.869000  ...     0.007576             0\n",
              "4   1.061468   0.243000  ...     0.007576             0\n",
              "\n",
              "[5 rows x 50 columns]"
            ]
          },
          "metadata": {
            "tags": []
          },
          "execution_count": 5
        }
      ]
    },
    {
      "cell_type": "code",
      "metadata": {
        "id": "5xce040S7zHq",
        "colab_type": "code",
        "colab": {
          "base_uri": "https://localhost:8080/",
          "height": 1000
        },
        "outputId": "659f4f49-e90f-462d-e99b-78d6babb7735"
      },
      "source": [
        "# Data details\n",
        "data.info()"
      ],
      "execution_count": 6,
      "outputs": [
        {
          "output_type": "stream",
          "text": [
            "<class 'pandas.core.frame.DataFrame'>\n",
            "RangeIndex: 486 entries, 0 to 485\n",
            "Data columns (total 50 columns):\n",
            " #   Column                  Non-Null Count  Dtype  \n",
            "---  ------                  --------------  -----  \n",
            " 0   pop                     486 non-null    float64\n",
            " 1   emp                     486 non-null    float64\n",
            " 2   emp_to_pop_ratio        486 non-null    float64\n",
            " 3   hc                      486 non-null    float64\n",
            " 4   ccon                    486 non-null    float64\n",
            " 5   cda                     486 non-null    float64\n",
            " 6   cn                      486 non-null    float64\n",
            " 7   ck                      486 non-null    float64\n",
            " 8   ctfp                    486 non-null    float64\n",
            " 9   cwtfp                   486 non-null    float64\n",
            " 10  rconna                  486 non-null    float64\n",
            " 11  rdana                   486 non-null    float64\n",
            " 12  rnna                    486 non-null    float64\n",
            " 13  rkna                    486 non-null    float64\n",
            " 14  rtfpna                  486 non-null    float64\n",
            " 15  rwtfpna                 486 non-null    float64\n",
            " 16  labsh                   486 non-null    float64\n",
            " 17  irr                     486 non-null    float64\n",
            " 18  delta                   486 non-null    float64\n",
            " 19  xr                      486 non-null    float64\n",
            " 20  pl_con                  486 non-null    float64\n",
            " 21  pl_da                   486 non-null    float64\n",
            " 22  pl_gdpo                 486 non-null    float64\n",
            " 23  csh_c                   486 non-null    float64\n",
            " 24  csh_i                   486 non-null    float64\n",
            " 25  csh_g                   486 non-null    float64\n",
            " 26  csh_x                   486 non-null    float64\n",
            " 27  csh_m                   486 non-null    float64\n",
            " 28  csh_r                   486 non-null    float64\n",
            " 29  pl_c                    486 non-null    float64\n",
            " 30  pl_i                    486 non-null    float64\n",
            " 31  pl_g                    486 non-null    float64\n",
            " 32  pl_x                    486 non-null    float64\n",
            " 33  pl_m                    486 non-null    float64\n",
            " 34  pl_n                    486 non-null    float64\n",
            " 35  total                   486 non-null    float64\n",
            " 36  excl_energy             486 non-null    float64\n",
            " 37  energy                  486 non-null    float64\n",
            " 38  metals_minerals         486 non-null    float64\n",
            " 39  forestry                486 non-null    float64\n",
            " 40  agriculture             486 non-null    float64\n",
            " 41  fish                    486 non-null    float64\n",
            " 42  total_change            486 non-null    float64\n",
            " 43  excl_energy_change      486 non-null    float64\n",
            " 44  energy_change           486 non-null    float64\n",
            " 45  metals_minerals_change  486 non-null    float64\n",
            " 46  forestry_change         486 non-null    float64\n",
            " 47  agriculture_change      486 non-null    float64\n",
            " 48  fish_change             486 non-null    float64\n",
            " 49  growthbucket            486 non-null    int64  \n",
            "dtypes: float64(49), int64(1)\n",
            "memory usage: 190.0 KB\n"
          ],
          "name": "stdout"
        }
      ]
    },
    {
      "cell_type": "markdown",
      "metadata": {
        "id": "La4TER8Q8BLB",
        "colab_type": "text"
      },
      "source": [
        "The dataset has 49 numeric (float) variables and one target variable (growthbucket) which has a 0 or 1 value. The data appears to have 486 records with no null values."
      ]
    },
    {
      "cell_type": "code",
      "metadata": {
        "id": "Psdlks-Q8Af0",
        "colab_type": "code",
        "colab": {
          "base_uri": "https://localhost:8080/",
          "height": 302
        },
        "outputId": "72fd3fd9-62b3-417a-ae5c-822e73a7e93d"
      },
      "source": [
        "# Dataset description\n",
        "data.describe()"
      ],
      "execution_count": 7,
      "outputs": [
        {
          "output_type": "execute_result",
          "data": {
            "text/html": [
              "<div>\n",
              "<style scoped>\n",
              "    .dataframe tbody tr th:only-of-type {\n",
              "        vertical-align: middle;\n",
              "    }\n",
              "\n",
              "    .dataframe tbody tr th {\n",
              "        vertical-align: top;\n",
              "    }\n",
              "\n",
              "    .dataframe thead th {\n",
              "        text-align: right;\n",
              "    }\n",
              "</style>\n",
              "<table border=\"1\" class=\"dataframe\">\n",
              "  <thead>\n",
              "    <tr style=\"text-align: right;\">\n",
              "      <th></th>\n",
              "      <th>pop</th>\n",
              "      <th>emp</th>\n",
              "      <th>emp_to_pop_ratio</th>\n",
              "      <th>hc</th>\n",
              "      <th>ccon</th>\n",
              "      <th>cda</th>\n",
              "      <th>cn</th>\n",
              "      <th>ck</th>\n",
              "      <th>ctfp</th>\n",
              "      <th>cwtfp</th>\n",
              "      <th>rconna</th>\n",
              "      <th>rdana</th>\n",
              "      <th>rnna</th>\n",
              "      <th>rkna</th>\n",
              "      <th>rtfpna</th>\n",
              "      <th>rwtfpna</th>\n",
              "      <th>labsh</th>\n",
              "      <th>irr</th>\n",
              "      <th>delta</th>\n",
              "      <th>xr</th>\n",
              "      <th>pl_con</th>\n",
              "      <th>pl_da</th>\n",
              "      <th>pl_gdpo</th>\n",
              "      <th>csh_c</th>\n",
              "      <th>csh_i</th>\n",
              "      <th>csh_g</th>\n",
              "      <th>csh_x</th>\n",
              "      <th>csh_m</th>\n",
              "      <th>csh_r</th>\n",
              "      <th>pl_c</th>\n",
              "      <th>pl_i</th>\n",
              "      <th>pl_g</th>\n",
              "      <th>pl_x</th>\n",
              "      <th>pl_m</th>\n",
              "      <th>pl_n</th>\n",
              "      <th>total</th>\n",
              "      <th>excl_energy</th>\n",
              "      <th>energy</th>\n",
              "      <th>metals_minerals</th>\n",
              "      <th>forestry</th>\n",
              "      <th>agriculture</th>\n",
              "      <th>fish</th>\n",
              "      <th>total_change</th>\n",
              "      <th>excl_energy_change</th>\n",
              "      <th>energy_change</th>\n",
              "      <th>metals_minerals_change</th>\n",
              "      <th>forestry_change</th>\n",
              "      <th>agriculture_change</th>\n",
              "      <th>fish_change</th>\n",
              "      <th>growthbucket</th>\n",
              "    </tr>\n",
              "  </thead>\n",
              "  <tbody>\n",
              "    <tr>\n",
              "      <th>count</th>\n",
              "      <td>486.000000</td>\n",
              "      <td>486.000000</td>\n",
              "      <td>486.000000</td>\n",
              "      <td>486.000000</td>\n",
              "      <td>486.000000</td>\n",
              "      <td>486.000000</td>\n",
              "      <td>4.860000e+02</td>\n",
              "      <td>486.000000</td>\n",
              "      <td>486.000000</td>\n",
              "      <td>486.000000</td>\n",
              "      <td>486.000000</td>\n",
              "      <td>486.000000</td>\n",
              "      <td>4.860000e+02</td>\n",
              "      <td>486.000000</td>\n",
              "      <td>486.000000</td>\n",
              "      <td>486.000000</td>\n",
              "      <td>486.000000</td>\n",
              "      <td>486.000000</td>\n",
              "      <td>486.000000</td>\n",
              "      <td>486.000000</td>\n",
              "      <td>486.000000</td>\n",
              "      <td>486.000000</td>\n",
              "      <td>486.000000</td>\n",
              "      <td>486.000000</td>\n",
              "      <td>486.000000</td>\n",
              "      <td>486.000000</td>\n",
              "      <td>486.000000</td>\n",
              "      <td>486.000000</td>\n",
              "      <td>486.000000</td>\n",
              "      <td>486.000000</td>\n",
              "      <td>486.000000</td>\n",
              "      <td>486.000000</td>\n",
              "      <td>486.000000</td>\n",
              "      <td>486.000000</td>\n",
              "      <td>486.000000</td>\n",
              "      <td>486.000000</td>\n",
              "      <td>486.000000</td>\n",
              "      <td>486.00000</td>\n",
              "      <td>486.000000</td>\n",
              "      <td>486.000000</td>\n",
              "      <td>486.000000</td>\n",
              "      <td>486.000000</td>\n",
              "      <td>486.000000</td>\n",
              "      <td>486.000000</td>\n",
              "      <td>486.000000</td>\n",
              "      <td>486.000000</td>\n",
              "      <td>486.000000</td>\n",
              "      <td>486.000000</td>\n",
              "      <td>486.000000</td>\n",
              "      <td>486.000000</td>\n",
              "    </tr>\n",
              "    <tr>\n",
              "      <th>mean</th>\n",
              "      <td>20.185755</td>\n",
              "      <td>7.121089</td>\n",
              "      <td>0.357865</td>\n",
              "      <td>1.777389</td>\n",
              "      <td>64361.006942</td>\n",
              "      <td>80885.988722</td>\n",
              "      <td>2.442244e+05</td>\n",
              "      <td>0.004583</td>\n",
              "      <td>0.454419</td>\n",
              "      <td>0.453431</td>\n",
              "      <td>68169.779343</td>\n",
              "      <td>86894.648830</td>\n",
              "      <td>2.960933e+05</td>\n",
              "      <td>0.922019</td>\n",
              "      <td>0.988884</td>\n",
              "      <td>0.956187</td>\n",
              "      <td>0.513159</td>\n",
              "      <td>0.115962</td>\n",
              "      <td>0.048087</td>\n",
              "      <td>447.069460</td>\n",
              "      <td>0.420510</td>\n",
              "      <td>0.425005</td>\n",
              "      <td>0.411562</td>\n",
              "      <td>0.679354</td>\n",
              "      <td>0.206769</td>\n",
              "      <td>0.174061</td>\n",
              "      <td>0.168543</td>\n",
              "      <td>-0.225677</td>\n",
              "      <td>-0.003049</td>\n",
              "      <td>0.430719</td>\n",
              "      <td>0.474535</td>\n",
              "      <td>0.407058</td>\n",
              "      <td>0.623058</td>\n",
              "      <td>0.592560</td>\n",
              "      <td>0.394489</td>\n",
              "      <td>480.433333</td>\n",
              "      <td>315.391667</td>\n",
              "      <td>1205.33000</td>\n",
              "      <td>512.912222</td>\n",
              "      <td>322.411667</td>\n",
              "      <td>221.326667</td>\n",
              "      <td>1009.445556</td>\n",
              "      <td>0.044535</td>\n",
              "      <td>0.030346</td>\n",
              "      <td>0.082411</td>\n",
              "      <td>0.058144</td>\n",
              "      <td>0.024774</td>\n",
              "      <td>0.033930</td>\n",
              "      <td>0.023741</td>\n",
              "      <td>0.078189</td>\n",
              "    </tr>\n",
              "    <tr>\n",
              "      <th>std</th>\n",
              "      <td>30.037490</td>\n",
              "      <td>9.921471</td>\n",
              "      <td>0.080541</td>\n",
              "      <td>0.446339</td>\n",
              "      <td>129634.856793</td>\n",
              "      <td>156740.416624</td>\n",
              "      <td>4.725163e+05</td>\n",
              "      <td>0.008210</td>\n",
              "      <td>0.206562</td>\n",
              "      <td>0.203056</td>\n",
              "      <td>136352.268853</td>\n",
              "      <td>164892.302342</td>\n",
              "      <td>5.126251e+05</td>\n",
              "      <td>0.340277</td>\n",
              "      <td>0.143482</td>\n",
              "      <td>0.140860</td>\n",
              "      <td>0.148923</td>\n",
              "      <td>0.073690</td>\n",
              "      <td>0.012163</td>\n",
              "      <td>797.259327</td>\n",
              "      <td>0.126245</td>\n",
              "      <td>0.117072</td>\n",
              "      <td>0.117266</td>\n",
              "      <td>0.158903</td>\n",
              "      <td>0.088993</td>\n",
              "      <td>0.063082</td>\n",
              "      <td>0.142386</td>\n",
              "      <td>0.132546</td>\n",
              "      <td>0.090130</td>\n",
              "      <td>0.136076</td>\n",
              "      <td>0.142659</td>\n",
              "      <td>0.160308</td>\n",
              "      <td>0.104425</td>\n",
              "      <td>0.076358</td>\n",
              "      <td>0.386874</td>\n",
              "      <td>132.323682</td>\n",
              "      <td>65.322380</td>\n",
              "      <td>416.62894</td>\n",
              "      <td>173.040876</td>\n",
              "      <td>44.315222</td>\n",
              "      <td>49.803981</td>\n",
              "      <td>140.125951</td>\n",
              "      <td>0.184025</td>\n",
              "      <td>0.105616</td>\n",
              "      <td>0.288454</td>\n",
              "      <td>0.151285</td>\n",
              "      <td>0.129924</td>\n",
              "      <td>0.127101</td>\n",
              "      <td>0.076937</td>\n",
              "      <td>0.268746</td>\n",
              "    </tr>\n",
              "    <tr>\n",
              "      <th>min</th>\n",
              "      <td>1.061468</td>\n",
              "      <td>0.243000</td>\n",
              "      <td>0.198212</td>\n",
              "      <td>1.069451</td>\n",
              "      <td>2781.259277</td>\n",
              "      <td>2984.366943</td>\n",
              "      <td>5.790397e+03</td>\n",
              "      <td>0.000124</td>\n",
              "      <td>0.098622</td>\n",
              "      <td>0.107790</td>\n",
              "      <td>2786.592285</td>\n",
              "      <td>2978.288574</td>\n",
              "      <td>8.735905e+03</td>\n",
              "      <td>0.136824</td>\n",
              "      <td>0.429515</td>\n",
              "      <td>0.382910</td>\n",
              "      <td>0.164316</td>\n",
              "      <td>0.010000</td>\n",
              "      <td>0.024867</td>\n",
              "      <td>1.000000</td>\n",
              "      <td>0.150231</td>\n",
              "      <td>0.146762</td>\n",
              "      <td>0.128689</td>\n",
              "      <td>0.223663</td>\n",
              "      <td>0.049954</td>\n",
              "      <td>0.016554</td>\n",
              "      <td>0.012206</td>\n",
              "      <td>-0.784460</td>\n",
              "      <td>-0.652756</td>\n",
              "      <td>0.154627</td>\n",
              "      <td>0.030470</td>\n",
              "      <td>0.044227</td>\n",
              "      <td>0.375171</td>\n",
              "      <td>0.432636</td>\n",
              "      <td>0.062744</td>\n",
              "      <td>274.690000</td>\n",
              "      <td>205.270000</td>\n",
              "      <td>586.13000</td>\n",
              "      <td>241.900000</td>\n",
              "      <td>245.560000</td>\n",
              "      <td>149.370000</td>\n",
              "      <td>843.660000</td>\n",
              "      <td>-0.359446</td>\n",
              "      <td>-0.173741</td>\n",
              "      <td>-0.477017</td>\n",
              "      <td>-0.157564</td>\n",
              "      <td>-0.174550</td>\n",
              "      <td>-0.225998</td>\n",
              "      <td>-0.113858</td>\n",
              "      <td>0.000000</td>\n",
              "    </tr>\n",
              "    <tr>\n",
              "      <th>25%</th>\n",
              "      <td>3.830730</td>\n",
              "      <td>1.048750</td>\n",
              "      <td>0.297922</td>\n",
              "      <td>1.445886</td>\n",
              "      <td>9117.209716</td>\n",
              "      <td>11081.697755</td>\n",
              "      <td>2.429231e+04</td>\n",
              "      <td>0.000514</td>\n",
              "      <td>0.301179</td>\n",
              "      <td>0.295615</td>\n",
              "      <td>8797.567871</td>\n",
              "      <td>10660.792725</td>\n",
              "      <td>3.465814e+04</td>\n",
              "      <td>0.709967</td>\n",
              "      <td>0.946962</td>\n",
              "      <td>0.900594</td>\n",
              "      <td>0.426136</td>\n",
              "      <td>0.063373</td>\n",
              "      <td>0.041254</td>\n",
              "      <td>8.609180</td>\n",
              "      <td>0.338547</td>\n",
              "      <td>0.349186</td>\n",
              "      <td>0.329368</td>\n",
              "      <td>0.594391</td>\n",
              "      <td>0.142124</td>\n",
              "      <td>0.132076</td>\n",
              "      <td>0.059928</td>\n",
              "      <td>-0.299666</td>\n",
              "      <td>-0.034658</td>\n",
              "      <td>0.346740</td>\n",
              "      <td>0.383279</td>\n",
              "      <td>0.299052</td>\n",
              "      <td>0.536308</td>\n",
              "      <td>0.541171</td>\n",
              "      <td>0.294728</td>\n",
              "      <td>355.210000</td>\n",
              "      <td>271.740000</td>\n",
              "      <td>801.96000</td>\n",
              "      <td>331.440000</td>\n",
              "      <td>289.580000</td>\n",
              "      <td>185.770000</td>\n",
              "      <td>899.190000</td>\n",
              "      <td>-0.058931</td>\n",
              "      <td>-0.044322</td>\n",
              "      <td>-0.102940</td>\n",
              "      <td>-0.053405</td>\n",
              "      <td>-0.060792</td>\n",
              "      <td>-0.026451</td>\n",
              "      <td>-0.020995</td>\n",
              "      <td>0.000000</td>\n",
              "    </tr>\n",
              "    <tr>\n",
              "      <th>50%</th>\n",
              "      <td>10.868272</td>\n",
              "      <td>4.184000</td>\n",
              "      <td>0.368841</td>\n",
              "      <td>1.689902</td>\n",
              "      <td>17471.495120</td>\n",
              "      <td>22228.022460</td>\n",
              "      <td>6.432356e+04</td>\n",
              "      <td>0.001355</td>\n",
              "      <td>0.400647</td>\n",
              "      <td>0.405870</td>\n",
              "      <td>16610.300780</td>\n",
              "      <td>21656.230470</td>\n",
              "      <td>7.413105e+04</td>\n",
              "      <td>0.933401</td>\n",
              "      <td>1.000000</td>\n",
              "      <td>0.978814</td>\n",
              "      <td>0.523287</td>\n",
              "      <td>0.107553</td>\n",
              "      <td>0.046315</td>\n",
              "      <td>152.079811</td>\n",
              "      <td>0.409295</td>\n",
              "      <td>0.422608</td>\n",
              "      <td>0.408461</td>\n",
              "      <td>0.708287</td>\n",
              "      <td>0.193263</td>\n",
              "      <td>0.168642</td>\n",
              "      <td>0.136851</td>\n",
              "      <td>-0.186369</td>\n",
              "      <td>0.000000</td>\n",
              "      <td>0.416230</td>\n",
              "      <td>0.471758</td>\n",
              "      <td>0.383152</td>\n",
              "      <td>0.640564</td>\n",
              "      <td>0.607994</td>\n",
              "      <td>0.357652</td>\n",
              "      <td>485.785000</td>\n",
              "      <td>326.945000</td>\n",
              "      <td>1285.16500</td>\n",
              "      <td>562.320000</td>\n",
              "      <td>328.020000</td>\n",
              "      <td>213.095000</td>\n",
              "      <td>948.745000</td>\n",
              "      <td>0.061860</td>\n",
              "      <td>0.019950</td>\n",
              "      <td>0.054933</td>\n",
              "      <td>0.046808</td>\n",
              "      <td>0.003277</td>\n",
              "      <td>0.038444</td>\n",
              "      <td>0.006529</td>\n",
              "      <td>0.000000</td>\n",
              "    </tr>\n",
              "    <tr>\n",
              "      <th>75%</th>\n",
              "      <td>24.220695</td>\n",
              "      <td>8.517560</td>\n",
              "      <td>0.416717</td>\n",
              "      <td>2.117452</td>\n",
              "      <td>58016.873047</td>\n",
              "      <td>69676.791020</td>\n",
              "      <td>1.886244e+05</td>\n",
              "      <td>0.003227</td>\n",
              "      <td>0.616736</td>\n",
              "      <td>0.603459</td>\n",
              "      <td>61146.049805</td>\n",
              "      <td>81660.662112</td>\n",
              "      <td>2.488039e+05</td>\n",
              "      <td>1.037367</td>\n",
              "      <td>1.038464</td>\n",
              "      <td>1.015393</td>\n",
              "      <td>0.612079</td>\n",
              "      <td>0.161361</td>\n",
              "      <td>0.052742</td>\n",
              "      <td>550.521500</td>\n",
              "      <td>0.490157</td>\n",
              "      <td>0.489201</td>\n",
              "      <td>0.487113</td>\n",
              "      <td>0.792734</td>\n",
              "      <td>0.268336</td>\n",
              "      <td>0.208797</td>\n",
              "      <td>0.221857</td>\n",
              "      <td>-0.126700</td>\n",
              "      <td>0.041204</td>\n",
              "      <td>0.495139</td>\n",
              "      <td>0.558896</td>\n",
              "      <td>0.497188</td>\n",
              "      <td>0.715812</td>\n",
              "      <td>0.645224</td>\n",
              "      <td>0.433157</td>\n",
              "      <td>611.580000</td>\n",
              "      <td>363.530000</td>\n",
              "      <td>1555.86000</td>\n",
              "      <td>642.820000</td>\n",
              "      <td>348.510000</td>\n",
              "      <td>265.400000</td>\n",
              "      <td>1095.320000</td>\n",
              "      <td>0.208732</td>\n",
              "      <td>0.105791</td>\n",
              "      <td>0.245094</td>\n",
              "      <td>0.154531</td>\n",
              "      <td>0.096810</td>\n",
              "      <td>0.112793</td>\n",
              "      <td>0.047421</td>\n",
              "      <td>0.000000</td>\n",
              "    </tr>\n",
              "    <tr>\n",
              "      <th>max</th>\n",
              "      <td>190.886307</td>\n",
              "      <td>65.156548</td>\n",
              "      <td>0.555433</td>\n",
              "      <td>2.885300</td>\n",
              "      <td>758455.187500</td>\n",
              "      <td>896604.812500</td>\n",
              "      <td>2.886312e+06</td>\n",
              "      <td>0.041835</td>\n",
              "      <td>0.998187</td>\n",
              "      <td>1.031707</td>\n",
              "      <td>762126.937500</td>\n",
              "      <td>908560.687500</td>\n",
              "      <td>2.592378e+06</td>\n",
              "      <td>3.033909</td>\n",
              "      <td>1.956830</td>\n",
              "      <td>1.447288</td>\n",
              "      <td>0.837299</td>\n",
              "      <td>0.430071</td>\n",
              "      <td>0.093944</td>\n",
              "      <td>7384.432129</td>\n",
              "      <td>0.928638</td>\n",
              "      <td>0.866256</td>\n",
              "      <td>0.809904</td>\n",
              "      <td>0.999501</td>\n",
              "      <td>0.556026</td>\n",
              "      <td>0.406014</td>\n",
              "      <td>0.843246</td>\n",
              "      <td>-0.017928</td>\n",
              "      <td>0.634478</td>\n",
              "      <td>0.983001</td>\n",
              "      <td>1.183658</td>\n",
              "      <td>1.205253</td>\n",
              "      <td>1.143190</td>\n",
              "      <td>1.077168</td>\n",
              "      <td>6.048152</td>\n",
              "      <td>689.920000</td>\n",
              "      <td>415.180000</td>\n",
              "      <td>1985.48000</td>\n",
              "      <td>775.130000</td>\n",
              "      <td>417.580000</td>\n",
              "      <td>308.050000</td>\n",
              "      <td>1276.530000</td>\n",
              "      <td>0.264843</td>\n",
              "      <td>0.218346</td>\n",
              "      <td>0.717188</td>\n",
              "      <td>0.476204</td>\n",
              "      <td>0.300217</td>\n",
              "      <td>0.320880</td>\n",
              "      <td>0.165440</td>\n",
              "      <td>1.000000</td>\n",
              "    </tr>\n",
              "  </tbody>\n",
              "</table>\n",
              "</div>"
            ],
            "text/plain": [
              "              pop         emp  ...  fish_change  growthbucket\n",
              "count  486.000000  486.000000  ...   486.000000    486.000000\n",
              "mean    20.185755    7.121089  ...     0.023741      0.078189\n",
              "std     30.037490    9.921471  ...     0.076937      0.268746\n",
              "min      1.061468    0.243000  ...    -0.113858      0.000000\n",
              "25%      3.830730    1.048750  ...    -0.020995      0.000000\n",
              "50%     10.868272    4.184000  ...     0.006529      0.000000\n",
              "75%     24.220695    8.517560  ...     0.047421      0.000000\n",
              "max    190.886307   65.156548  ...     0.165440      1.000000\n",
              "\n",
              "[8 rows x 50 columns]"
            ]
          },
          "metadata": {
            "tags": []
          },
          "execution_count": 7
        }
      ]
    },
    {
      "cell_type": "markdown",
      "metadata": {
        "id": "guEaxbfG8bu6",
        "colab_type": "text"
      },
      "source": [
        "The dataset has multiple numeric variables measured on varying scales. However, using a decision tree-based method eliminates the need for feature scaling."
      ]
    },
    {
      "cell_type": "code",
      "metadata": {
        "id": "USkFq1YJUlpN",
        "colab_type": "code",
        "colab": {
          "base_uri": "https://localhost:8080/",
          "height": 924
        },
        "outputId": "5a2ee277-fb86-4bc5-e158-59cbae707aab"
      },
      "source": [
        "# Checking for null values\n",
        "data.isna().any()"
      ],
      "execution_count": 8,
      "outputs": [
        {
          "output_type": "execute_result",
          "data": {
            "text/plain": [
              "pop                       False\n",
              "emp                       False\n",
              "emp_to_pop_ratio          False\n",
              "hc                        False\n",
              "ccon                      False\n",
              "cda                       False\n",
              "cn                        False\n",
              "ck                        False\n",
              "ctfp                      False\n",
              "cwtfp                     False\n",
              "rconna                    False\n",
              "rdana                     False\n",
              "rnna                      False\n",
              "rkna                      False\n",
              "rtfpna                    False\n",
              "rwtfpna                   False\n",
              "labsh                     False\n",
              "irr                       False\n",
              "delta                     False\n",
              "xr                        False\n",
              "pl_con                    False\n",
              "pl_da                     False\n",
              "pl_gdpo                   False\n",
              "csh_c                     False\n",
              "csh_i                     False\n",
              "csh_g                     False\n",
              "csh_x                     False\n",
              "csh_m                     False\n",
              "csh_r                     False\n",
              "pl_c                      False\n",
              "pl_i                      False\n",
              "pl_g                      False\n",
              "pl_x                      False\n",
              "pl_m                      False\n",
              "pl_n                      False\n",
              "total                     False\n",
              "excl_energy               False\n",
              "energy                    False\n",
              "metals_minerals           False\n",
              "forestry                  False\n",
              "agriculture               False\n",
              "fish                      False\n",
              "total_change              False\n",
              "excl_energy_change        False\n",
              "energy_change             False\n",
              "metals_minerals_change    False\n",
              "forestry_change           False\n",
              "agriculture_change        False\n",
              "fish_change               False\n",
              "growthbucket              False\n",
              "dtype: bool"
            ]
          },
          "metadata": {
            "tags": []
          },
          "execution_count": 8
        }
      ]
    },
    {
      "cell_type": "markdown",
      "metadata": {
        "id": "eWF-sRNmnFVC",
        "colab_type": "text"
      },
      "source": [
        "The data has no null values, as expected."
      ]
    },
    {
      "cell_type": "code",
      "metadata": {
        "id": "ZXBQ4atKUoV_",
        "colab_type": "code",
        "colab": {
          "base_uri": "https://localhost:8080/",
          "height": 35
        },
        "outputId": "e9801a5f-18b6-4e10-dbaa-a55f20f60640"
      },
      "source": [
        "# Checking for duplicates\n",
        "data.duplicated().any()"
      ],
      "execution_count": 9,
      "outputs": [
        {
          "output_type": "execute_result",
          "data": {
            "text/plain": [
              "False"
            ]
          },
          "metadata": {
            "tags": []
          },
          "execution_count": 9
        }
      ]
    },
    {
      "cell_type": "markdown",
      "metadata": {
        "id": "qcSIZ7VznJfQ",
        "colab_type": "text"
      },
      "source": [
        "There are no duplicated records in this dataset."
      ]
    },
    {
      "cell_type": "code",
      "metadata": {
        "id": "qzH-kiaNruRJ",
        "colab_type": "code",
        "colab": {
          "base_uri": "https://localhost:8080/",
          "height": 35
        },
        "outputId": "1b506459-2bba-4105-f457-3ff04098e7a1"
      },
      "source": [
        "# Counting number of records from each class\n",
        "from collections import Counter\n",
        "counter = Counter(data.growthbucket)\n",
        "counter"
      ],
      "execution_count": 10,
      "outputs": [
        {
          "output_type": "execute_result",
          "data": {
            "text/plain": [
              "Counter({0: 448, 1: 38})"
            ]
          },
          "metadata": {
            "tags": []
          },
          "execution_count": 10
        }
      ]
    },
    {
      "cell_type": "markdown",
      "metadata": {
        "id": "5KSp4fnynOup",
        "colab_type": "text"
      },
      "source": [
        "448 out of 486 records belong to the majority (no recession) class. This leaves less than 8% of records in the minority (recession) class."
      ]
    },
    {
      "cell_type": "code",
      "metadata": {
        "id": "17eSKPPjbK5U",
        "colab_type": "code",
        "colab": {
          "base_uri": "https://localhost:8080/",
          "height": 295
        },
        "outputId": "a38742cc-0fb8-4df9-dc79-3e7cbef9376b"
      },
      "source": [
        "# Plotting count by class (label)\n",
        "plt.figure()\n",
        "sns.countplot(data.growthbucket, palette = 'inferno')\n",
        "plt.title('Target Class Value Counts')\n",
        "plt.savefig('countplot.png', bbox_inches = \"tight\")"
      ],
      "execution_count": 11,
      "outputs": [
        {
          "output_type": "display_data",
          "data": {
            "image/png": "[encoded data removed]",
            "text/plain": [
              "<Figure size 432x288 with 1 Axes>"
            ]
          },
          "metadata": {
            "tags": [],
            "needs_background": "light"
          }
        }
      ]
    },
    {
      "cell_type": "markdown",
      "metadata": {
        "id": "ZqbTivuJnqAO",
        "colab_type": "text"
      },
      "source": [
        "The plot confirms an extreme imbalance in the target variable."
      ]
    },
    {
      "cell_type": "markdown",
      "metadata": {
        "id": "ipOaFfC7nwz3",
        "colab_type": "text"
      },
      "source": [
        "## Testing recommendations for prediction"
      ]
    },
    {
      "cell_type": "markdown",
      "metadata": {
        "id": "ewlsj6ymn2LB",
        "colab_type": "text"
      },
      "source": [
        "### 1. Decision tree algorithm"
      ]
    },
    {
      "cell_type": "markdown",
      "metadata": {
        "id": "9uAVRrL3n-NR",
        "colab_type": "text"
      },
      "source": [
        "Decision trees typically work well on imbalanced data, and therefore a simple decision tree classifier can be used as an initial/baseline model for prediction."
      ]
    },
    {
      "cell_type": "code",
      "metadata": {
        "id": "UI2HZqMXBJuF",
        "colab_type": "code",
        "colab": {
          "base_uri": "https://localhost:8080/",
          "height": 35
        },
        "outputId": "6c1e37d0-7538-4ec8-e801-2b53d8aeca2b"
      },
      "source": [
        "# Creating separate subsets of the data for labels and the rest of the variables\n",
        "X = data.iloc[:, 0:-1].values\n",
        "y = data.iloc[:, -1].values\n",
        "\n",
        "# Splitting them into test and train datasets\n",
        "from sklearn.model_selection import train_test_split\n",
        "X_train, X_test, y_train, y_test = train_test_split(X, y, test_size=0.2, random_state=0)\n",
        "\n",
        "# Decision tree model\n",
        "from sklearn.tree import DecisionTreeClassifier\n",
        "dtc = DecisionTreeClassifier(random_state=0)\n",
        "\n",
        "# Fitting and making predictions\n",
        "dtc.fit(X_train, y_train)\n",
        "y_pred_dtc = dtc.predict(X_test)\n",
        "\n",
        "# Accuracy score\n",
        "from sklearn import metrics\n",
        "metrics.accuracy_score(y_test, y_pred_dtc)"
      ],
      "execution_count": 12,
      "outputs": [
        {
          "output_type": "execute_result",
          "data": {
            "text/plain": [
              "0.9387755102040817"
            ]
          },
          "metadata": {
            "tags": []
          },
          "execution_count": 12
        }
      ]
    },
    {
      "cell_type": "markdown",
      "metadata": {
        "id": "DdKsenXBp7j8",
        "colab_type": "text"
      },
      "source": [
        "An accuracy score of 94% can be great, but it is important to be critical of this score when dealing with imbalance. Other metrics that show the strength of prediction for both the majority and minority class can provide a better picture of model performance (the ratios of true/false positives/negatives)."
      ]
    },
    {
      "cell_type": "code",
      "metadata": {
        "id": "fG4_FjfM0ONg",
        "colab_type": "code",
        "colab": {
          "base_uri": "https://localhost:8080/",
          "height": 849
        },
        "outputId": "f3269ae1-39ed-4db9-e753-e95ec814b794"
      },
      "source": [
        "# Trying different metrics\n",
        "print(\"\\n AUC-ROC:\", metrics.roc_auc_score(y_test, y_pred_dtc)) #AUC-ROC\n",
        "print(\"\\n classification report: \\n\", metrics.classification_report(y_test, y_pred_dtc)) # Classification report\n",
        "print(\"\\n confusion matrix: \\n\", metrics.plot_confusion_matrix(dtc, X_test, y_test)) # Confusion matrix\n",
        "print()\n",
        "\n",
        "# Classification report\n",
        "from sklearn.metrics import classification_report\n",
        "clf_report_dtc = classification_report(y_test, y_pred_dtc, output_dict=True)\n",
        "plt.figure()\n",
        "plt.title(\"Decision Tree - baseline\")\n",
        "sns.heatmap(pd.DataFrame(clf_report_dtc).iloc[:-1, :-3].T, annot=True)\n",
        "plt.show()"
      ],
      "execution_count": 13,
      "outputs": [
        {
          "output_type": "stream",
          "text": [
            "\n",
            " AUC-ROC: 0.6838709677419355\n",
            "\n",
            " classification report: \n",
            "               precision    recall  f1-score   support\n",
            "\n",
            "           0       0.97      0.97      0.97        93\n",
            "           1       0.40      0.40      0.40         5\n",
            "\n",
            "    accuracy                           0.94        98\n",
            "   macro avg       0.68      0.68      0.68        98\n",
            "weighted avg       0.94      0.94      0.94        98\n",
            "\n",
            "\n",
            " confusion matrix: \n",
            " <sklearn.metrics._plot.confusion_matrix.ConfusionMatrixDisplay object at 0x7fe3c7c1d0f0>\n",
            "\n"
          ],
          "name": "stdout"
        },
        {
          "output_type": "display_data",
          "data": {
            "image/png": "[encoded data removed]",
            "text/plain": [
              "<Figure size 432x288 with 2 Axes>"
            ]
          },
          "metadata": {
            "tags": [],
            "needs_background": "light"
          }
        },
        {
          "output_type": "display_data",
          "data": {
            "image/png": "[encoded data removed]",
            "text/plain": [
              "<Figure size 432x288 with 2 Axes>"
            ]
          },
          "metadata": {
            "tags": [],
            "needs_background": "light"
          }
        }
      ]
    },
    {
      "cell_type": "markdown",
      "metadata": {
        "id": "dwLMV0daq2qi",
        "colab_type": "text"
      },
      "source": [
        "The model performs very well when predicting the majority class, but has trouble making accurate predictions for the minority class. There is a high rate of both false positives and negatives."
      ]
    },
    {
      "cell_type": "markdown",
      "metadata": {
        "id": "jELMACzPrNaj",
        "colab_type": "text"
      },
      "source": [
        "\n",
        "### 2. Ensemble methods\n",
        "\n",
        "Ensemble methods combine several weak learners (single decision trees) to create a strong learner. [Bagging and boosting](https://towardsdatascience.com/decision-tree-ensembles-bagging-and-boosting-266a8ba60fd9#:~:text=Ensemble%20methods%2C%20which%20combines%20several,to%20form%20a%20strong%20learner.) are common methods for reducing variance/overfitting or error, respectively."
      ]
    },
    {
      "cell_type": "code",
      "metadata": {
        "id": "I2i9uob4JpPR",
        "colab_type": "code",
        "colab": {
          "base_uri": "https://localhost:8080/",
          "height": 1000
        },
        "outputId": "794a195d-36e9-4493-8534-cd72f461ff8e"
      },
      "source": [
        "# Comparing models based on decision trees\n",
        "from sklearn.ensemble import RandomForestClassifier\n",
        "from sklearn.ensemble import GradientBoostingClassifier\n",
        "from xgboost.sklearn import XGBClassifier\n",
        "from sklearn.model_selection import RepeatedStratifiedKFold\n",
        "from sklearn.model_selection import cross_val_score\n",
        "\n",
        "# Defining models\n",
        "models = [DecisionTreeClassifier(random_state=0), RandomForestClassifier(random_state=0), GradientBoostingClassifier(random_state=0), XGBClassifier(random_state=0)]\n",
        "names = [\"Decision Tree\", \"Random Forest\", \"Gradient Boosting\", \"XGBoost\"]\n",
        "results_dt = []\n",
        "cv = RepeatedStratifiedKFold(n_splits=10, n_repeats=3, random_state=0) # 10-fold random stratified cross-validation\n",
        "acc = []\n",
        "auc = []\n",
        "\n",
        "# Getting scores for the different models\n",
        "for model, name in zip(models, names):\n",
        "  model = model.fit(X_train, y_train)\n",
        "  pred = model.predict(X_test)\n",
        "  \n",
        "  cv_results = cross_val_score(model, X, y, cv=cv, scoring=\"roc_auc\") # Storing AUC-ROC scores for plot\n",
        "  results_dt.append(cv_results)\n",
        "\n",
        "  acc.append(cross_val_score(model, X, y, scoring=\"accuracy\", cv=cv, n_jobs=-1).mean()) # Storing accuracy values\n",
        "  auc.append(cross_val_score(model, X, y, scoring=\"roc_auc\", cv=cv, n_jobs=-1).mean()) # Storing AUC-ROC scores\n",
        "\n",
        "  print(name)\n",
        "  print(\"confusion matrix: \\n\", metrics.confusion_matrix(y_test, pred)) # Confusion matrix\n",
        "  \n",
        "  \n",
        "  #Plotting classification report\n",
        "  clf_report = classification_report(y_test, pred, output_dict=True)\n",
        "  plt.figure()\n",
        "  plt.title(name)\n",
        "  sns.heatmap(pd.DataFrame(clf_report).iloc[:-1, :-3].T, annot=True)\n",
        "  plt.show()\n",
        "\n",
        "  print()     "
      ],
      "execution_count": 14,
      "outputs": [
        {
          "output_type": "stream",
          "text": [
            "Decision Tree\n",
            "confusion matrix: \n",
            " [[90  3]\n",
            " [ 3  2]]\n"
          ],
          "name": "stdout"
        },
        {
          "output_type": "display_data",
          "data": {
            "image/png": "[encoded data removed]",
            "text/plain": [
              "<Figure size 432x288 with 2 Axes>"
            ]
          },
          "metadata": {
            "tags": [],
            "needs_background": "light"
          }
        },
        {
          "output_type": "stream",
          "text": [
            "\n",
            "Random Forest\n",
            "confusion matrix: \n",
            " [[92  1]\n",
            " [ 4  1]]\n"
          ],
          "name": "stdout"
        },
        {
          "output_type": "display_data",
          "data": {
            "image/png": "[encoded data removed]",
            "text/plain": [
              "<Figure size 432x288 with 2 Axes>"
            ]
          },
          "metadata": {
            "tags": [],
            "needs_background": "light"
          }
        },
        {
          "output_type": "stream",
          "text": [
            "\n",
            "Gradient Boosting\n",
            "confusion matrix: \n",
            " [[92  1]\n",
            " [ 4  1]]\n"
          ],
          "name": "stdout"
        },
        {
          "output_type": "display_data",
          "data": {
            "image/png": "[encoded data removed]",
            "text/plain": [
              "<Figure size 432x288 with 2 Axes>"
            ]
          },
          "metadata": {
            "tags": [],
            "needs_background": "light"
          }
        },
        {
          "output_type": "stream",
          "text": [
            "\n",
            "XGBoost\n",
            "confusion matrix: \n",
            " [[93  0]\n",
            " [ 4  1]]\n"
          ],
          "name": "stdout"
        },
        {
          "output_type": "display_data",
          "data": {
            "image/png": "[encoded data removed]",
            "text/plain": [
              "<Figure size 432x288 with 2 Axes>"
            ]
          },
          "metadata": {
            "tags": [],
            "needs_background": "light"
          }
        },
        {
          "output_type": "stream",
          "text": [
            "\n"
          ],
          "name": "stdout"
        }
      ]
    },
    {
      "cell_type": "code",
      "metadata": {
        "id": "7PTWgKuqRH80",
        "colab_type": "code",
        "colab": {
          "base_uri": "https://localhost:8080/",
          "height": 164
        },
        "outputId": "14faed68-a6c5-494d-df3d-8a64890deebd"
      },
      "source": [
        "# Accuracy and AUC-ROC Scores\n",
        "scores = pd.DataFrame(list(zip(names, acc, auc)), columns =[\"Algorithm\", \"Accuracy Score\", \"AUC-ROC Score\"]) \n",
        "scores.to_csv(\"scores.csv\")\n",
        "scores"
      ],
      "execution_count": 15,
      "outputs": [
        {
          "output_type": "execute_result",
          "data": {
            "text/html": [
              "<div>\n",
              "<style scoped>\n",
              "    .dataframe tbody tr th:only-of-type {\n",
              "        vertical-align: middle;\n",
              "    }\n",
              "\n",
              "    .dataframe tbody tr th {\n",
              "        vertical-align: top;\n",
              "    }\n",
              "\n",
              "    .dataframe thead th {\n",
              "        text-align: right;\n",
              "    }\n",
              "</style>\n",
              "<table border=\"1\" class=\"dataframe\">\n",
              "  <thead>\n",
              "    <tr style=\"text-align: right;\">\n",
              "      <th></th>\n",
              "      <th>Algorithm</th>\n",
              "      <th>Accuracy Score</th>\n",
              "      <th>AUC-ROC Score</th>\n",
              "    </tr>\n",
              "  </thead>\n",
              "  <tbody>\n",
              "    <tr>\n",
              "      <th>0</th>\n",
              "      <td>Decision Tree</td>\n",
              "      <td>0.882143</td>\n",
              "      <td>0.632348</td>\n",
              "    </tr>\n",
              "    <tr>\n",
              "      <th>1</th>\n",
              "      <td>Random Forest</td>\n",
              "      <td>0.918467</td>\n",
              "      <td>0.798859</td>\n",
              "    </tr>\n",
              "    <tr>\n",
              "      <th>2</th>\n",
              "      <td>Gradient Boosting</td>\n",
              "      <td>0.910899</td>\n",
              "      <td>0.701242</td>\n",
              "    </tr>\n",
              "    <tr>\n",
              "      <th>3</th>\n",
              "      <td>XGBoost</td>\n",
              "      <td>0.925950</td>\n",
              "      <td>0.789555</td>\n",
              "    </tr>\n",
              "  </tbody>\n",
              "</table>\n",
              "</div>"
            ],
            "text/plain": [
              "           Algorithm  Accuracy Score  AUC-ROC Score\n",
              "0      Decision Tree        0.882143       0.632348\n",
              "1      Random Forest        0.918467       0.798859\n",
              "2  Gradient Boosting        0.910899       0.701242\n",
              "3            XGBoost        0.925950       0.789555"
            ]
          },
          "metadata": {
            "tags": []
          },
          "execution_count": 15
        }
      ]
    },
    {
      "cell_type": "code",
      "metadata": {
        "id": "n-vd57SGnlMC",
        "colab_type": "code",
        "colab": {
          "base_uri": "https://localhost:8080/",
          "height": 369
        },
        "outputId": "2705adf5-bf72-4b06-88b4-fe577fe301f1"
      },
      "source": [
        "# Plotting AUC-ROC\n",
        "fig = plt.figure()\n",
        "fig.suptitle('Algorithm Comparison')\n",
        "ax = fig.add_subplot(111)\n",
        "plt.boxplot(results_dt)\n",
        "plt.xlabel('Algorithm')\n",
        "plt.ylabel('AUC-ROC')\n",
        "ax.set_xticklabels(names)\n",
        "plt.xticks(rotation=45)\n",
        "plt.show()"
      ],
      "execution_count": 16,
      "outputs": [
        {
          "output_type": "display_data",
          "data": {
            "image/png": "[encoded data removed]",
            "text/plain": [
              "<Figure size 432x288 with 1 Axes>"
            ]
          },
          "metadata": {
            "tags": [],
            "needs_background": "light"
          }
        }
      ]
    },
    {
      "cell_type": "markdown",
      "metadata": {
        "id": "e6gZzIQD_AJ-",
        "colab_type": "text"
      },
      "source": [
        "The accuracy and AUC-ROC scores improved, but prediction accuracy is still poor for the minority class."
      ]
    },
    {
      "cell_type": "markdown",
      "metadata": {
        "id": "7xtdTSRWGVFM",
        "colab_type": "text"
      },
      "source": [
        "### 3. Cost-sensitive classification\n",
        "\n",
        "Adding sample weights to the algorithm's parameters to ensure that sampling is conducted evenly across the classes is another way to offset the imbalance."
      ]
    },
    {
      "cell_type": "code",
      "metadata": {
        "id": "kOezj7863wty",
        "colab_type": "code",
        "colab": {}
      },
      "source": [
        "# Calculating sample weight for XGBoost\n",
        "from math import sqrt\n",
        "scale_pos_weight_sqrt = sqrt(len(data[data['growthbucket'] == 0])/len(data[data['growthbucket'] == 1]))"
      ],
      "execution_count": 17,
      "outputs": []
    },
    {
      "cell_type": "code",
      "metadata": {
        "id": "lgz477I4zh2Q",
        "colab_type": "code",
        "colab": {
          "base_uri": "https://localhost:8080/",
          "height": 1000
        },
        "outputId": "864f606a-29bc-4430-d43a-d704e2140a0d"
      },
      "source": [
        "# Weighted/cost-sensitive decision trees\n",
        "models_balanced = [DecisionTreeClassifier(random_state=0, class_weight = \"balanced\"), RandomForestClassifier(random_state=0, class_weight=\"balanced_subsample\"), XGBClassifier(random_state=0, scale_pos_weight = scale_pos_weight_sqrt)]\n",
        "names_balanced = [\"Decision Tree (Balanced)\", \"Random Forest (Balanced)\", \"XGBoost (Balanced)\"]\n",
        "results_balanced = []\n",
        "acc_balanced = []\n",
        "auc_balanced = []\n",
        "\n",
        "# Getting scores for the different models\n",
        "for model, name in zip(models_balanced, names_balanced):\n",
        "  model = model.fit(X_train, y_train)\n",
        "  pred = model.predict(X_test)\n",
        "\n",
        "  cv_results = cross_val_score(model, X, y, cv=cv, scoring=\"roc_auc\")\n",
        "  results_balanced.append(cv_results)\n",
        "\n",
        "  acc_balanced.append(cross_val_score(model, X, y, scoring=\"accuracy\", cv=cv, n_jobs=-1).mean()) # Storing accuracy values\n",
        "  auc_balanced.append(cross_val_score(model, X, y, scoring=\"roc_auc\", cv=cv, n_jobs=-1).mean()) # Storing AUC-ROC scores\n",
        "\n",
        "  print(name)\n",
        "  print(\"confusion matrix: \\n\", metrics.confusion_matrix(y_test, pred))\n",
        "\n",
        "  #Plotting classification report\n",
        "  clf_report = classification_report(y_test, pred, output_dict=True)\n",
        "  plt.figure()\n",
        "  plt.title(name)\n",
        "  sns.heatmap(pd.DataFrame(clf_report).iloc[:-1, :-3].T, annot=True)\n",
        "  plt.show()\n",
        "\n",
        "  print()     "
      ],
      "execution_count": 18,
      "outputs": [
        {
          "output_type": "stream",
          "text": [
            "Decision Tree (Balanced)\n",
            "confusion matrix: \n",
            " [[88  5]\n",
            " [ 5  0]]\n"
          ],
          "name": "stdout"
        },
        {
          "output_type": "display_data",
          "data": {
            "image/png": "[encoded data removed]",
            "text/plain": [
              "<Figure size 432x288 with 2 Axes>"
            ]
          },
          "metadata": {
            "tags": [],
            "needs_background": "light"
          }
        },
        {
          "output_type": "stream",
          "text": [
            "\n",
            "Random Forest (Balanced)\n",
            "confusion matrix: \n",
            " [[93  0]\n",
            " [ 4  1]]\n"
          ],
          "name": "stdout"
        },
        {
          "output_type": "display_data",
          "data": {
            "image/png": "[encoded data removed]",
            "text/plain": [
              "<Figure size 432x288 with 2 Axes>"
            ]
          },
          "metadata": {
            "tags": [],
            "needs_background": "light"
          }
        },
        {
          "output_type": "stream",
          "text": [
            "\n",
            "XGBoost (Balanced)\n",
            "confusion matrix: \n",
            " [[93  0]\n",
            " [ 4  1]]\n"
          ],
          "name": "stdout"
        },
        {
          "output_type": "display_data",
          "data": {
            "image/png": "[encoded data removed]",
            "text/plain": [
              "<Figure size 432x288 with 2 Axes>"
            ]
          },
          "metadata": {
            "tags": [],
            "needs_background": "light"
          }
        },
        {
          "output_type": "stream",
          "text": [
            "\n"
          ],
          "name": "stdout"
        }
      ]
    },
    {
      "cell_type": "code",
      "metadata": {
        "id": "xk9DI5P3S5BP",
        "colab_type": "code",
        "colab": {
          "base_uri": "https://localhost:8080/",
          "height": 135
        },
        "outputId": "3fcb5c78-e150-4cae-97eb-9e022be38492"
      },
      "source": [
        "# Accuracy and AUC-ROC Scores\n",
        "scores_balanced = pd.DataFrame(list(zip(names, acc_balanced, auc_balanced)), columns =[\"Algorithm\", \"Accuracy Score\", \"AUC-ROC Score\"]) \n",
        "scores_balanced.to_csv(\"scores balanced.csv\")\n",
        "scores_balanced"
      ],
      "execution_count": 19,
      "outputs": [
        {
          "output_type": "execute_result",
          "data": {
            "text/html": [
              "<div>\n",
              "<style scoped>\n",
              "    .dataframe tbody tr th:only-of-type {\n",
              "        vertical-align: middle;\n",
              "    }\n",
              "\n",
              "    .dataframe tbody tr th {\n",
              "        vertical-align: top;\n",
              "    }\n",
              "\n",
              "    .dataframe thead th {\n",
              "        text-align: right;\n",
              "    }\n",
              "</style>\n",
              "<table border=\"1\" class=\"dataframe\">\n",
              "  <thead>\n",
              "    <tr style=\"text-align: right;\">\n",
              "      <th></th>\n",
              "      <th>Algorithm</th>\n",
              "      <th>Accuracy Score</th>\n",
              "      <th>AUC-ROC Score</th>\n",
              "    </tr>\n",
              "  </thead>\n",
              "  <tbody>\n",
              "    <tr>\n",
              "      <th>0</th>\n",
              "      <td>Decision Tree</td>\n",
              "      <td>0.887599</td>\n",
              "      <td>0.579419</td>\n",
              "    </tr>\n",
              "    <tr>\n",
              "      <th>1</th>\n",
              "      <td>Random Forest</td>\n",
              "      <td>0.931448</td>\n",
              "      <td>0.791689</td>\n",
              "    </tr>\n",
              "    <tr>\n",
              "      <th>2</th>\n",
              "      <td>Gradient Boosting</td>\n",
              "      <td>0.917063</td>\n",
              "      <td>0.791505</td>\n",
              "    </tr>\n",
              "  </tbody>\n",
              "</table>\n",
              "</div>"
            ],
            "text/plain": [
              "           Algorithm  Accuracy Score  AUC-ROC Score\n",
              "0      Decision Tree        0.887599       0.579419\n",
              "1      Random Forest        0.931448       0.791689\n",
              "2  Gradient Boosting        0.917063       0.791505"
            ]
          },
          "metadata": {
            "tags": []
          },
          "execution_count": 19
        }
      ]
    },
    {
      "cell_type": "code",
      "metadata": {
        "id": "1LF_n-pqobgG",
        "colab_type": "code",
        "colab": {
          "base_uri": "https://localhost:8080/",
          "height": 399
        },
        "outputId": "6fdb6a5e-647d-4655-bc75-1263cc25f99c"
      },
      "source": [
        "# Plotting AUC-ROC\n",
        "fig = plt.figure()\n",
        "fig.suptitle(\"Algorithm Comparison- Balanced\")\n",
        "ax = fig.add_subplot(111)\n",
        "plt.boxplot(results_balanced)\n",
        "plt.xlabel('Algorithm')\n",
        "plt.ylabel('AUC-ROC')\n",
        "ax.set_xticklabels(names_balanced)\n",
        "plt.xticks(rotation=45)\n",
        "plt.show()"
      ],
      "execution_count": 20,
      "outputs": [
        {
          "output_type": "display_data",
          "data": {
            "image/png": "[encoded data removed]",
            "text/plain": [
              "<Figure size 432x288 with 1 Axes>"
            ]
          },
          "metadata": {
            "tags": [],
            "needs_background": "light"
          }
        }
      ]
    },
    {
      "cell_type": "markdown",
      "metadata": {
        "id": "ewWYIHByGvip",
        "colab_type": "text"
      },
      "source": [
        "Using cost-sensitive algorithms improved precision with ensemble methods but did not improve other scores."
      ]
    },
    {
      "cell_type": "markdown",
      "metadata": {
        "id": "0ytA_vNTHEGq",
        "colab_type": "text"
      },
      "source": [
        "### 4. Random undersampling\n",
        "\n",
        "Down-sampling the majority class by randomly selecting records from the majority class without replacement to match the number of records in the minority class can produce a more balanced subset of the data."
      ]
    },
    {
      "cell_type": "code",
      "metadata": {
        "id": "JJrt5nqYqcoP",
        "colab_type": "code",
        "colab": {
          "base_uri": "https://localhost:8080/",
          "height": 70
        },
        "outputId": "a1d17003-b29b-4e12-ff40-6a3fcddece66"
      },
      "source": [
        "# Undersampling\n",
        "from sklearn.utils import resample\n",
        "majority = data[data.growthbucket==0] # Majority class\n",
        "minority = data[data.growthbucket==1] # Minority class\n",
        "\n",
        "# Random selection without replacement\n",
        "majority_undersampled = resample(majority, replace=False, n_samples=38, random_state=0) # Randomly selects 38 records from majority to match minority class size\n",
        "\n",
        "# New downsampled dataset\n",
        "df_undersampled = pd.concat([majority_undersampled, minority])  # Minority class + sample of 38 from majority\n",
        " \n",
        "df_undersampled.growthbucket.value_counts()"
      ],
      "execution_count": 21,
      "outputs": [
        {
          "output_type": "execute_result",
          "data": {
            "text/plain": [
              "1    38\n",
              "0    38\n",
              "Name: growthbucket, dtype: int64"
            ]
          },
          "metadata": {
            "tags": []
          },
          "execution_count": 21
        }
      ]
    },
    {
      "cell_type": "code",
      "metadata": {
        "id": "e3rTh4Es08EK",
        "colab_type": "code",
        "colab": {
          "base_uri": "https://localhost:8080/",
          "height": 1000
        },
        "outputId": "dea8c94c-f971-4ed0-9d88-4bd6703500a3"
      },
      "source": [
        "# Comparing models on undersampled data\n",
        "\n",
        "# Preparing data\n",
        "X_under = df_undersampled.iloc[:, 0:-1].values\n",
        "y_under = df_undersampled.iloc[:, -1].values\n",
        "\n",
        "X_train_under, X_test_under, y_train_under, y_test_under = train_test_split(X_under, y_under, test_size=0.2, random_state=0)\n",
        "\n",
        "results_under = []\n",
        "acc_under = []\n",
        "auc_under = []\n",
        "\n",
        "# Getting scores for the different models\n",
        "for model, name in zip(models, names):\n",
        "  model = model.fit(X_train_under, y_train_under)\n",
        "  pred = model.predict(X_test_under)\n",
        "\n",
        "  cv_results = cross_val_score(model, X_under, y_under, cv=cv, scoring=\"roc_auc\")\n",
        "  results_under.append(cv_results)\n",
        "\n",
        "  acc_under.append(cross_val_score(model, X_under, y_under, scoring=\"accuracy\", cv=cv, n_jobs=-1).mean()) # Storing accuracy values\n",
        "  auc_under.append(cross_val_score(model, X_under, y_under, scoring=\"roc_auc\", cv=cv, n_jobs=-1).mean()) # Storing roc_auc scores\n",
        "\n",
        "  print(name)\n",
        "  print(\"confusion matrix: \\n\", metrics.confusion_matrix(y_test_under, pred))\n",
        "\n",
        "  #Plotting classification report\n",
        "  clf_report = classification_report(y_test_under, pred, output_dict=True)\n",
        "  plt.figure()\n",
        "  plt.title(name)\n",
        "  sns.heatmap(pd.DataFrame(clf_report).iloc[:-1, :-3].T, annot=True)\n",
        "  plt.show()\n",
        "\n",
        "  print()     "
      ],
      "execution_count": 22,
      "outputs": [
        {
          "output_type": "stream",
          "text": [
            "Decision Tree\n",
            "confusion matrix: \n",
            " [[4 2]\n",
            " [5 5]]\n"
          ],
          "name": "stdout"
        },
        {
          "output_type": "display_data",
          "data": {
            "image/png": "[encoded data removed]",
            "text/plain": [
              "<Figure size 432x288 with 2 Axes>"
            ]
          },
          "metadata": {
            "tags": [],
            "needs_background": "light"
          }
        },
        {
          "output_type": "stream",
          "text": [
            "\n",
            "Random Forest\n",
            "confusion matrix: \n",
            " [[4 2]\n",
            " [4 6]]\n"
          ],
          "name": "stdout"
        },
        {
          "output_type": "display_data",
          "data": {
            "image/png": "[encoded data removed]",
            "text/plain": [
              "<Figure size 432x288 with 2 Axes>"
            ]
          },
          "metadata": {
            "tags": [],
            "needs_background": "light"
          }
        },
        {
          "output_type": "stream",
          "text": [
            "\n",
            "Gradient Boosting\n",
            "confusion matrix: \n",
            " [[3 3]\n",
            " [4 6]]\n",
            "XGBoost\n",
            "confusion matrix: \n",
            " [[3 3]\n",
            " [3 7]]\n"
          ],
          "name": "stdout"
        },
        {
          "output_type": "display_data",
          "data": {
            "image/png": "[encoded data removed]",
            "text/plain": [
              "<Figure size 432x288 with 2 Axes>"
            ]
          },
          "metadata": {
            "tags": [],
            "needs_background": "light"
          }
        },
        {
          "output_type": "stream",
          "text": [
            "\n"
          ],
          "name": "stdout"
        }
      ]
    },
    {
      "cell_type": "code",
      "metadata": {
        "id": "OLfxm6TvS__W",
        "colab_type": "code",
        "colab": {
          "base_uri": "https://localhost:8080/",
          "height": 164
        },
        "outputId": "59b96d8d-8064-4985-d2bb-7a1b6ed2fcb3"
      },
      "source": [
        "# Accuracy and AUC-ROC Scores\n",
        "scores_under = pd.DataFrame(list(zip(names, acc_under, auc_under)), columns =[\"Algorithm\", \"Accuracy Score\", \"AUC-ROC Score\"]) \n",
        "scores_under.to_csv(\"scores under.csv\")\n",
        "scores_under"
      ],
      "execution_count": 23,
      "outputs": [
        {
          "output_type": "execute_result",
          "data": {
            "text/html": [
              "<div>\n",
              "<style scoped>\n",
              "    .dataframe tbody tr th:only-of-type {\n",
              "        vertical-align: middle;\n",
              "    }\n",
              "\n",
              "    .dataframe tbody tr th {\n",
              "        vertical-align: top;\n",
              "    }\n",
              "\n",
              "    .dataframe thead th {\n",
              "        text-align: right;\n",
              "    }\n",
              "</style>\n",
              "<table border=\"1\" class=\"dataframe\">\n",
              "  <thead>\n",
              "    <tr style=\"text-align: right;\">\n",
              "      <th></th>\n",
              "      <th>Algorithm</th>\n",
              "      <th>Accuracy Score</th>\n",
              "      <th>AUC-ROC Score</th>\n",
              "    </tr>\n",
              "  </thead>\n",
              "  <tbody>\n",
              "    <tr>\n",
              "      <th>0</th>\n",
              "      <td>Decision Tree</td>\n",
              "      <td>0.594048</td>\n",
              "      <td>0.601389</td>\n",
              "    </tr>\n",
              "    <tr>\n",
              "      <th>1</th>\n",
              "      <td>Random Forest</td>\n",
              "      <td>0.674405</td>\n",
              "      <td>0.771181</td>\n",
              "    </tr>\n",
              "    <tr>\n",
              "      <th>2</th>\n",
              "      <td>Gradient Boosting</td>\n",
              "      <td>0.657738</td>\n",
              "      <td>0.703472</td>\n",
              "    </tr>\n",
              "    <tr>\n",
              "      <th>3</th>\n",
              "      <td>XGBoost</td>\n",
              "      <td>0.663690</td>\n",
              "      <td>0.715278</td>\n",
              "    </tr>\n",
              "  </tbody>\n",
              "</table>\n",
              "</div>"
            ],
            "text/plain": [
              "           Algorithm  Accuracy Score  AUC-ROC Score\n",
              "0      Decision Tree        0.594048       0.601389\n",
              "1      Random Forest        0.674405       0.771181\n",
              "2  Gradient Boosting        0.657738       0.703472\n",
              "3            XGBoost        0.663690       0.715278"
            ]
          },
          "metadata": {
            "tags": []
          },
          "execution_count": 23
        }
      ]
    },
    {
      "cell_type": "code",
      "metadata": {
        "id": "f9MEeSa1omRg",
        "colab_type": "code",
        "colab": {
          "base_uri": "https://localhost:8080/",
          "height": 369
        },
        "outputId": "91bd8fa0-5f7a-4eeb-ac41-2e862aabefc6"
      },
      "source": [
        "# Plotting AUC-ROC\n",
        "fig = plt.figure()\n",
        "fig.suptitle(\"Algorithm Comparison - Undersampled\")\n",
        "ax = fig.add_subplot(111)\n",
        "plt.boxplot(results_under)\n",
        "plt.xlabel('Algorithm')\n",
        "plt.ylabel('AUC-ROC')\n",
        "ax.set_xticklabels(names)\n",
        "plt.xticks(rotation=45)\n",
        "plt.show()"
      ],
      "execution_count": 24,
      "outputs": [
        {
          "output_type": "display_data",
          "data": {
            "image/png": "[encoded data removed]",
            "text/plain": [
              "<Figure size 432x288 with 1 Axes>"
            ]
          },
          "metadata": {
            "tags": [],
            "needs_background": "light"
          }
        }
      ]
    },
    {
      "cell_type": "markdown",
      "metadata": {
        "id": "5V3l1mv-Mb7u",
        "colab_type": "text"
      },
      "source": [
        "Scores are generally lower with undersampling, which was expected with the extreme imbalance and smaller dataset. However, the accuracy of predictions is more even between the classes."
      ]
    },
    {
      "cell_type": "markdown",
      "metadata": {
        "id": "EVEvH22VK9Sc",
        "colab_type": "text"
      },
      "source": [
        "### 5. Oversampling\n",
        "\n",
        "Adding records to the minority class can help the model to predict the minority class more. "
      ]
    },
    {
      "cell_type": "markdown",
      "metadata": {
        "id": "c0zuZ6RaLBIv",
        "colab_type": "text"
      },
      "source": [
        "**Random Oversampling**\n",
        "\n",
        "Random oversampling selects random records to duplicate from the minority class (with replacement) until the number of records from each class is even."
      ]
    },
    {
      "cell_type": "code",
      "metadata": {
        "id": "9s3AQCwHqg8K",
        "colab_type": "code",
        "colab": {
          "base_uri": "https://localhost:8080/",
          "height": 70
        },
        "outputId": "532ead6c-611f-45fa-b642-1c38069d1278"
      },
      "source": [
        "# Random duplication with replacement\n",
        "minority_oversampled = resample(minority, replace=True, n_samples=448, random_state=0) \n",
        "\n",
        "# New upsampled dataset \n",
        "df_oversampled = pd.concat([minority_oversampled, majority])\n",
        " \n",
        "df_oversampled.growthbucket.value_counts()"
      ],
      "execution_count": 25,
      "outputs": [
        {
          "output_type": "execute_result",
          "data": {
            "text/plain": [
              "1    448\n",
              "0    448\n",
              "Name: growthbucket, dtype: int64"
            ]
          },
          "metadata": {
            "tags": []
          },
          "execution_count": 25
        }
      ]
    },
    {
      "cell_type": "code",
      "metadata": {
        "id": "_SmpeTl31xeg",
        "colab_type": "code",
        "colab": {
          "base_uri": "https://localhost:8080/",
          "height": 1000
        },
        "outputId": "3bb14e1b-917d-422f-be08-ae0e44a2cb87"
      },
      "source": [
        "# Oversampling (resample)\n",
        "\n",
        "# Preparing data\n",
        "X_over = df_oversampled.iloc[:, 0:-1].values\n",
        "y_over = df_oversampled.iloc[:, -1].values\n",
        "\n",
        "X_train_over, X_test_over, y_train_over, y_test_over = train_test_split(X_over, y_over, test_size=0.2, random_state=0)\n",
        "\n",
        "results_over = []\n",
        "acc_over = []\n",
        "auc_over = []\n",
        "\n",
        "# Getting scores for the different models\n",
        "for model, name in zip(models, names):\n",
        "  model = model.fit(X_train_over, y_train_over)\n",
        "  pred = model.predict(X_test_over)\n",
        "\n",
        "  cv_results = cross_val_score(model, X_over, y_over, cv=cv, scoring=\"roc_auc\")\n",
        "  results_over.append(cv_results)\n",
        "\n",
        "  acc_over.append(cross_val_score(model, X_over, y_over, scoring=\"accuracy\", cv=cv, n_jobs=-1).mean()) # Storing accuracy values\n",
        "  auc_over.append(cross_val_score(model, X_over, y_over, scoring=\"roc_auc\", cv=cv, n_jobs=-1).mean()) # Storing AUC-ROC scores\n",
        "\n",
        "  print(name)\n",
        "  print(\"confusion matrix: \\n\", metrics.confusion_matrix(y_test_over, pred))\n",
        "\n",
        "  #Plotting classification report\n",
        "  clf_report = classification_report(y_test_over, pred, output_dict=True)\n",
        "  plt.figure()\n",
        "  plt.title(name)\n",
        "  sns.heatmap(pd.DataFrame(clf_report).iloc[:-1, :-3].T, annot=True)\n",
        "  plt.show()\n",
        "\n",
        "  print()     "
      ],
      "execution_count": 26,
      "outputs": [
        {
          "output_type": "stream",
          "text": [
            "Decision Tree\n",
            "confusion matrix: \n",
            " [[89  5]\n",
            " [ 0 86]]\n"
          ],
          "name": "stdout"
        },
        {
          "output_type": "display_data",
          "data": {
            "image/png": "[encoded data removed]",
            "text/plain": [
              "<Figure size 432x288 with 2 Axes>"
            ]
          },
          "metadata": {
            "tags": [],
            "needs_background": "light"
          }
        },
        {
          "output_type": "stream",
          "text": [
            "\n",
            "Random Forest\n",
            "confusion matrix: \n",
            " [[91  3]\n",
            " [ 0 86]]\n"
          ],
          "name": "stdout"
        },
        {
          "output_type": "display_data",
          "data": {
            "image/png": "[encoded data removed]",
            "text/plain": [
              "<Figure size 432x288 with 2 Axes>"
            ]
          },
          "metadata": {
            "tags": [],
            "needs_background": "light"
          }
        },
        {
          "output_type": "stream",
          "text": [
            "\n",
            "Gradient Boosting\n",
            "confusion matrix: \n",
            " [[87  7]\n",
            " [ 0 86]]\n"
          ],
          "name": "stdout"
        },
        {
          "output_type": "display_data",
          "data": {
            "image/png": "[encoded data removed]",
            "text/plain": [
              "<Figure size 432x288 with 2 Axes>"
            ]
          },
          "metadata": {
            "tags": [],
            "needs_background": "light"
          }
        },
        {
          "output_type": "stream",
          "text": [
            "\n",
            "XGBoost\n",
            "confusion matrix: \n",
            " [[88  6]\n",
            " [ 0 86]]\n"
          ],
          "name": "stdout"
        },
        {
          "output_type": "display_data",
          "data": {
            "image/png": "[encoded data removed]",
            "text/plain": [
              "<Figure size 432x288 with 2 Axes>"
            ]
          },
          "metadata": {
            "tags": [],
            "needs_background": "light"
          }
        },
        {
          "output_type": "stream",
          "text": [
            "\n"
          ],
          "name": "stdout"
        }
      ]
    },
    {
      "cell_type": "code",
      "metadata": {
        "id": "cWpbEIBrTHuM",
        "colab_type": "code",
        "colab": {
          "base_uri": "https://localhost:8080/",
          "height": 164
        },
        "outputId": "efb5bf1f-41ef-43a8-b9ed-a13ba3ded035"
      },
      "source": [
        "# Accuracy and AUC-ROC Scores\n",
        "scores_over = pd.DataFrame(list(zip(names, acc_over, auc_over)), columns =[\"Algorithm\", \"Accuracy Score\", \"AUC-ROC Score\"]) \n",
        "scores_over.to_csv(\"scores over.csv\")\n",
        "scores_over"
      ],
      "execution_count": 27,
      "outputs": [
        {
          "output_type": "execute_result",
          "data": {
            "text/html": [
              "<div>\n",
              "<style scoped>\n",
              "    .dataframe tbody tr th:only-of-type {\n",
              "        vertical-align: middle;\n",
              "    }\n",
              "\n",
              "    .dataframe tbody tr th {\n",
              "        vertical-align: top;\n",
              "    }\n",
              "\n",
              "    .dataframe thead th {\n",
              "        text-align: right;\n",
              "    }\n",
              "</style>\n",
              "<table border=\"1\" class=\"dataframe\">\n",
              "  <thead>\n",
              "    <tr style=\"text-align: right;\">\n",
              "      <th></th>\n",
              "      <th>Algorithm</th>\n",
              "      <th>Accuracy Score</th>\n",
              "      <th>AUC-ROC Score</th>\n",
              "    </tr>\n",
              "  </thead>\n",
              "  <tbody>\n",
              "    <tr>\n",
              "      <th>0</th>\n",
              "      <td>Decision Tree</td>\n",
              "      <td>0.966122</td>\n",
              "      <td>0.966103</td>\n",
              "    </tr>\n",
              "    <tr>\n",
              "      <th>1</th>\n",
              "      <td>Random Forest</td>\n",
              "      <td>0.983596</td>\n",
              "      <td>1.000000</td>\n",
              "    </tr>\n",
              "    <tr>\n",
              "      <th>2</th>\n",
              "      <td>Gradient Boosting</td>\n",
              "      <td>0.974303</td>\n",
              "      <td>0.999092</td>\n",
              "    </tr>\n",
              "    <tr>\n",
              "      <th>3</th>\n",
              "      <td>XGBoost</td>\n",
              "      <td>0.974295</td>\n",
              "      <td>0.998830</td>\n",
              "    </tr>\n",
              "  </tbody>\n",
              "</table>\n",
              "</div>"
            ],
            "text/plain": [
              "           Algorithm  Accuracy Score  AUC-ROC Score\n",
              "0      Decision Tree        0.966122       0.966103\n",
              "1      Random Forest        0.983596       1.000000\n",
              "2  Gradient Boosting        0.974303       0.999092\n",
              "3            XGBoost        0.974295       0.998830"
            ]
          },
          "metadata": {
            "tags": []
          },
          "execution_count": 27
        }
      ]
    },
    {
      "cell_type": "code",
      "metadata": {
        "id": "wXGHYvEnousK",
        "colab_type": "code",
        "colab": {
          "base_uri": "https://localhost:8080/",
          "height": 369
        },
        "outputId": "a4bcacf6-5e6d-45c2-8c0b-d7efb2416cd2"
      },
      "source": [
        "# Plotting AUC-ROC\n",
        "fig = plt.figure()\n",
        "fig.suptitle('Algorithm Comparison')\n",
        "ax = fig.add_subplot(111)\n",
        "plt.boxplot(results_over)\n",
        "plt.xlabel('Algorithm')\n",
        "plt.ylabel('AUC-ROC')\n",
        "ax.set_xticklabels(names)\n",
        "plt.xticks(rotation=45)\n",
        "\n",
        "plt.show()"
      ],
      "execution_count": 28,
      "outputs": [
        {
          "output_type": "display_data",
          "data": {
            "image/png": "[encoded data removed]",
            "text/plain": [
              "<Figure size 432x288 with 1 Axes>"
            ]
          },
          "metadata": {
            "tags": [],
            "needs_background": "light"
          }
        }
      ]
    },
    {
      "cell_type": "markdown",
      "metadata": {
        "id": "3OA3IgqQM16w",
        "colab_type": "text"
      },
      "source": [
        "Random oversampling improves the accuracy of predictions for both classes. The ensemble methods show much greater improvement with this method."
      ]
    },
    {
      "cell_type": "markdown",
      "metadata": {
        "id": "YgF-8AkYLHOM",
        "colab_type": "text"
      },
      "source": [
        "**SMOTE**\n",
        "\n",
        "Synthetic Minority Oversampling Technique (SMOTE) uses the K-nearest neighbours algorithm to create plausible new synthetic records between actual records in the minority class. This is an improvement to the random duplication method that prevents overfitting."
      ]
    },
    {
      "cell_type": "code",
      "metadata": {
        "id": "imthWVejqker",
        "colab_type": "code",
        "colab": {
          "base_uri": "https://localhost:8080/",
          "height": 70
        },
        "outputId": "c95bea49-6a31-403b-c1e2-993eb676892a"
      },
      "source": [
        "# SMOTE\n",
        "from imblearn.over_sampling import SMOTE\n",
        "oversample = SMOTE()\n",
        "X_smote, y_smote = oversample.fit_resample(X, y)\n",
        "\n",
        "# Previewing class weights\n",
        "Counter(y_smote)"
      ],
      "execution_count": 29,
      "outputs": [
        {
          "output_type": "stream",
          "text": [
            "/usr/local/lib/python3.6/dist-packages/sklearn/utils/deprecation.py:87: FutureWarning: Function safe_indexing is deprecated; safe_indexing is deprecated in version 0.22 and will be removed in version 0.24.\n",
            "  warnings.warn(msg, category=FutureWarning)\n"
          ],
          "name": "stderr"
        },
        {
          "output_type": "execute_result",
          "data": {
            "text/plain": [
              "Counter({0: 448, 1: 448})"
            ]
          },
          "metadata": {
            "tags": []
          },
          "execution_count": 29
        }
      ]
    },
    {
      "cell_type": "code",
      "metadata": {
        "id": "tSmmQdqL2jnc",
        "colab_type": "code",
        "colab": {
          "base_uri": "https://localhost:8080/",
          "height": 1000
        },
        "outputId": "f58740f6-9139-4674-8d85-87dfd14de721"
      },
      "source": [
        "# Oversampling - SMOTE\n",
        "\n",
        "#Preparing data\n",
        "X_train_smote, X_test_smote, y_train_smote, y_test_smote = train_test_split(X_smote, y_smote, test_size=0.2, random_state=0)\n",
        "\n",
        "results_smote = []\n",
        "acc_smote = []\n",
        "auc_smote = []\n",
        "\n",
        "# Getting scores for the different models\n",
        "for model, name in zip(models, names):\n",
        "  model = model.fit(X_train_smote, y_train_smote)\n",
        "  pred = model.predict(X_test_smote)\n",
        "  \n",
        "  cv_results = cross_val_score(model, X_smote, y_smote, cv=cv, scoring=\"roc_auc\")\n",
        "  results_smote.append(cv_results)\n",
        "\n",
        "  acc_smote.append(cross_val_score(model, X_smote, y_smote, scoring=\"accuracy\", cv=cv, n_jobs=-1).mean()) # Storing accuracy values\n",
        "  auc_smote.append(cross_val_score(model, X_smote, y_smote, scoring=\"roc_auc\", cv=cv, n_jobs=-1).mean()) # Storing AUC-ROC scores\n",
        "\n",
        "  print(name)\n",
        "  print(\"confusion matrix: \\n\", metrics.confusion_matrix(y_test_smote, pred))\n",
        "  \n",
        "  #Plotting classification report\n",
        "  clf_report = classification_report(y_test_smote, pred, output_dict=True)\n",
        "  plt.figure()\n",
        "  plt.title(name)\n",
        "  sns.heatmap(pd.DataFrame(clf_report).iloc[:-1, :-3].T, annot=True)\n",
        "  plt.show()\n",
        "\n",
        "\n",
        "  print()     "
      ],
      "execution_count": 30,
      "outputs": [
        {
          "output_type": "stream",
          "text": [
            "Decision Tree\n",
            "confusion matrix: \n",
            " [[79  6]\n",
            " [ 8 87]]\n"
          ],
          "name": "stdout"
        },
        {
          "output_type": "display_data",
          "data": {
            "image/png": "[encoded data removed]",
            "text/plain": [
              "<Figure size 432x288 with 2 Axes>"
            ]
          },
          "metadata": {
            "tags": [],
            "needs_background": "light"
          }
        },
        {
          "output_type": "stream",
          "text": [
            "\n",
            "Random Forest\n",
            "confusion matrix: \n",
            " [[82  3]\n",
            " [ 3 92]]\n"
          ],
          "name": "stdout"
        },
        {
          "output_type": "display_data",
          "data": {
            "image/png": "[encoded data removed]",
            "text/plain": [
              "<Figure size 432x288 with 2 Axes>"
            ]
          },
          "metadata": {
            "tags": [],
            "needs_background": "light"
          }
        },
        {
          "output_type": "stream",
          "text": [
            "\n",
            "Gradient Boosting\n",
            "confusion matrix: \n",
            " [[84  1]\n",
            " [ 6 89]]\n"
          ],
          "name": "stdout"
        },
        {
          "output_type": "display_data",
          "data": {
            "image/png": "[encoded data removed]",
            "text/plain": [
              "<Figure size 432x288 with 2 Axes>"
            ]
          },
          "metadata": {
            "tags": [],
            "needs_background": "light"
          }
        },
        {
          "output_type": "stream",
          "text": [
            "\n",
            "XGBoost\n",
            "confusion matrix: \n",
            " [[83  2]\n",
            " [ 5 90]]\n"
          ],
          "name": "stdout"
        },
        {
          "output_type": "display_data",
          "data": {
            "image/png": "[encoded data removed]",
            "text/plain": [
              "<Figure size 432x288 with 2 Axes>"
            ]
          },
          "metadata": {
            "tags": [],
            "needs_background": "light"
          }
        },
        {
          "output_type": "stream",
          "text": [
            "\n"
          ],
          "name": "stdout"
        }
      ]
    },
    {
      "cell_type": "code",
      "metadata": {
        "id": "Ejrhq5wvTP5b",
        "colab_type": "code",
        "colab": {
          "base_uri": "https://localhost:8080/",
          "height": 164
        },
        "outputId": "c9261c09-7195-4aff-8b1a-ac6bf3fc17e3"
      },
      "source": [
        "# Accuracy and AUC-ROC Scores\n",
        "scores_smote = pd.DataFrame(list(zip(names, acc_smote, auc_smote)), columns =[\"Algorithm\", \"Accuracy Score\", \"AUC-ROC Score\"]) \n",
        "scores_smote.to_csv(\"scores smote.csv\")\n",
        "scores_smote"
      ],
      "execution_count": 31,
      "outputs": [
        {
          "output_type": "execute_result",
          "data": {
            "text/html": [
              "<div>\n",
              "<style scoped>\n",
              "    .dataframe tbody tr th:only-of-type {\n",
              "        vertical-align: middle;\n",
              "    }\n",
              "\n",
              "    .dataframe tbody tr th {\n",
              "        vertical-align: top;\n",
              "    }\n",
              "\n",
              "    .dataframe thead th {\n",
              "        text-align: right;\n",
              "    }\n",
              "</style>\n",
              "<table border=\"1\" class=\"dataframe\">\n",
              "  <thead>\n",
              "    <tr style=\"text-align: right;\">\n",
              "      <th></th>\n",
              "      <th>Algorithm</th>\n",
              "      <th>Accuracy Score</th>\n",
              "      <th>AUC-ROC Score</th>\n",
              "    </tr>\n",
              "  </thead>\n",
              "  <tbody>\n",
              "    <tr>\n",
              "      <th>0</th>\n",
              "      <td>Decision Tree</td>\n",
              "      <td>0.927811</td>\n",
              "      <td>0.927811</td>\n",
              "    </tr>\n",
              "    <tr>\n",
              "      <th>1</th>\n",
              "      <td>Random Forest</td>\n",
              "      <td>0.965772</td>\n",
              "      <td>0.996453</td>\n",
              "    </tr>\n",
              "    <tr>\n",
              "      <th>2</th>\n",
              "      <td>Gradient Boosting</td>\n",
              "      <td>0.956488</td>\n",
              "      <td>0.991322</td>\n",
              "    </tr>\n",
              "    <tr>\n",
              "      <th>3</th>\n",
              "      <td>XGBoost</td>\n",
              "      <td>0.963179</td>\n",
              "      <td>0.992120</td>\n",
              "    </tr>\n",
              "  </tbody>\n",
              "</table>\n",
              "</div>"
            ],
            "text/plain": [
              "           Algorithm  Accuracy Score  AUC-ROC Score\n",
              "0      Decision Tree        0.927811       0.927811\n",
              "1      Random Forest        0.965772       0.996453\n",
              "2  Gradient Boosting        0.956488       0.991322\n",
              "3            XGBoost        0.963179       0.992120"
            ]
          },
          "metadata": {
            "tags": []
          },
          "execution_count": 31
        }
      ]
    },
    {
      "cell_type": "code",
      "metadata": {
        "id": "5B5rgnopk7l5",
        "colab_type": "code",
        "colab": {
          "base_uri": "https://localhost:8080/",
          "height": 369
        },
        "outputId": "2f0c62d6-1d56-4f67-c9e5-0c6981f32612"
      },
      "source": [
        "# Plotting AUC-ROC\n",
        "fig = plt.figure()\n",
        "fig.suptitle('Algorithm Comparison - SMOTE')\n",
        "ax = fig.add_subplot(111)\n",
        "plt.boxplot(results_smote)\n",
        "plt.xlabel('Algorithm')\n",
        "plt.ylabel('AUC-ROC')\n",
        "ax.set_xticklabels(names)\n",
        "plt.xticks(rotation=45)\n",
        "plt.show()"
      ],
      "execution_count": 32,
      "outputs": [
        {
          "output_type": "display_data",
          "data": {
            "image/png": "[encoded data removed]",
            "text/plain": [
              "<Figure size 432x288 with 1 Axes>"
            ]
          },
          "metadata": {
            "tags": [],
            "needs_background": "light"
          }
        }
      ]
    },
    {
      "cell_type": "markdown",
      "metadata": {
        "id": "P0e0tcW2Nh22",
        "colab_type": "text"
      },
      "source": [
        "The accuracy of prediction is high using SMOTE, especially with ensemble methods."
      ]
    },
    {
      "cell_type": "markdown",
      "metadata": {
        "id": "60JRDtDINswn",
        "colab_type": "text"
      },
      "source": [
        "## Evaluation and Conclusion\n",
        "\n",
        "Oversampling with ensemble decision tree-based methods gives the best result for this dataset - a smaller dataset with extreme imbalance in the target variable.\n",
        "\n",
        "**Future work**\n",
        "\n",
        "The overall best model for this classification can be improved with parameter tuning and used for future predictions."
      ]
    }
  ]
}